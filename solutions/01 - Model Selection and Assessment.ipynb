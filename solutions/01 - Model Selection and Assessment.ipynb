{
 "metadata": {
  "name": "01 - Model Selection and Assessment"
 },
 "nbformat": 3,
 "nbformat_minor": 0,
 "worksheets": [
  {
   "cells": [
    {
     "cell_type": "heading",
     "level": 1,
     "metadata": {
      "slideshow": {
       "slide_type": "slide"
      }
     },
     "source": [
      "Model Selection and Assessment"
     ]
    },
    {
     "cell_type": "markdown",
     "metadata": {
      "slideshow": {
       "slide_type": "slide"
      }
     },
     "source": [
      "<style>\n",
      "div.input {\n",
      "    width: 105ex; /* about 80 chars + buffer */\n",
      "}\n",
      "div.text_cell {\n",
      "    width: 105ex; /* instead of 100%, */\n",
      "}\n",
      "div.text_cell_render {\n",
      "    /*font-family: \"Helvetica Neue\", Arial, Helvetica, Geneva, sans-serif;*/\n",
      "    font-family: \"Charis SIL\", serif !important; /* Make non-code text serif. */\n",
      "    line-height: 145% !important; /* added for some line spacing of text. */\n",
      "    width: 105ex !important; /* instead of 'inherit' for shorter lines */\n",
      "}\n",
      "/* Set the size of the headers */\n",
      "div.text_cell_render h1 {\n",
      "    font-size: 18pt;\n",
      "}\n",
      "div.text_cell_render h2 {\n",
      "    font-size: 14pt;\n",
      "}\n",
      ".CodeMirror {\n",
      "     font-family: Consolas, monospace;\n",
      "}\n",
      "</style>\n",
      "\n",
      "Outline of the session:\n",
      "\n",
      "- Model performance evaluation and **detection of overfitting with Cross-Validation**\n",
      "- **Hyper parameter tuning** and model selection with Grid Search\n",
      "- Error analysis with **learning curves** and the **Bias-Variance trade-off**\n",
      "- Overfitting via Model Selection and the **Development / Evaluation set split**"
     ]
    },
    {
     "cell_type": "code",
     "collapsed": false,
     "input": [
      "%pylab inline\n",
      "import pylab as pl\n",
      "import numpy as np\n",
      "\n",
      "# Some nice default configuration for plots\n",
      "pl.rcParams['figure.figsize'] = 10, 7.5\n",
      "pl.rcParams['axes.grid'] = True\n",
      "pl.gray()"
     ],
     "language": "python",
     "metadata": {
      "slideshow": {
       "slide_type": "slide"
      }
     },
     "outputs": [
      {
       "output_type": "stream",
       "stream": "stdout",
       "text": [
        "\n",
        "Welcome to pylab, a matplotlib-based Python environment [backend: module://IPython.kernel.zmq.pylab.backend_inline].\n",
        "For more information, type 'help(pylab)'.\n"
       ]
      },
      {
       "output_type": "display_data",
       "text": [
        "<matplotlib.figure.Figure at 0x10a5c66d0>"
       ]
      }
     ],
     "prompt_number": 1
    },
    {
     "cell_type": "heading",
     "level": 2,
     "metadata": {},
     "source": [
      "The Hand Written Digits Dataset"
     ]
    },
    {
     "cell_type": "markdown",
     "metadata": {},
     "source": [
      "Let's load a simple dataset of 8x8 gray level images of handwritten digits (bundled in the sklearn source code):"
     ]
    },
    {
     "cell_type": "code",
     "collapsed": false,
     "input": [
      "from sklearn.datasets import load_digits\n",
      "digits = load_digits()\n",
      "print(digits.DESCR)"
     ],
     "language": "python",
     "metadata": {},
     "outputs": [
      {
       "output_type": "stream",
       "stream": "stdout",
       "text": [
        " Optical Recognition of Handwritten Digits Data Set\n",
        "\n",
        "Notes\n",
        "-----\n",
        "Data Set Characteristics:\n",
        "    :Number of Instances: 5620\n",
        "    :Number of Attributes: 64\n",
        "    :Attribute Information: 8x8 image of integer pixels in the range 0..16.\n",
        "    :Missing Attribute Values: None\n",
        "    :Creator: E. Alpaydin (alpaydin '@' boun.edu.tr)\n",
        "    :Date: July; 1998\n",
        "\n",
        "This is a copy of the test set of the UCI ML hand-written digits datasets\n",
        "http://archive.ics.uci.edu/ml/datasets/Optical+Recognition+of+Handwritten+Digits\n",
        "\n",
        "The data set contains images of hand-written digits: 10 classes where\n",
        "each class refers to a digit.\n",
        "\n",
        "Preprocessing programs made available by NIST were used to extract\n",
        "normalized bitmaps of handwritten digits from a preprinted form. From a\n",
        "total of 43 people, 30 contributed to the training set and different 13\n",
        "to the test set. 32x32 bitmaps are divided into nonoverlapping blocks of\n",
        "4x4 and the number of on pixels are counted in each block. This generates\n",
        "an input matrix of 8x8 where each element is an integer in the range\n",
        "0..16. This reduces dimensionality and gives invariance to small\n",
        "distortions.\n",
        "\n",
        "For info on NIST preprocessing routines, see M. D. Garris, J. L. Blue, G.\n",
        "T. Candela, D. L. Dimmick, J. Geist, P. J. Grother, S. A. Janet, and C.\n",
        "L. Wilson, NIST Form-Based Handprint Recognition System, NISTIR 5469,\n",
        "1994.\n",
        "\n",
        "References\n",
        "----------\n",
        "  - C. Kaynak (1995) Methods of Combining Multiple Classifiers and Their\n",
        "    Applications to Handwritten Digit Recognition, MSc Thesis, Institute of\n",
        "    Graduate Studies in Science and Engineering, Bogazici University.\n",
        "  - E. Alpaydin, C. Kaynak (1998) Cascading Classifiers, Kybernetika.\n",
        "  - Ken Tang and Ponnuthurai N. Suganthan and Xi Yao and A. Kai Qin.\n",
        "    Linear dimensionalityreduction using relevance weighted LDA. School of\n",
        "    Electrical and Electronic Engineering Nanyang Technological University.\n",
        "    2005.\n",
        "  - Claudio Gentile. A New Approximate Maximal Margin Classification\n",
        "    Algorithm. NIPS. 2000.\n",
        "\n"
       ]
      }
     ],
     "prompt_number": 2
    },
    {
     "cell_type": "code",
     "collapsed": false,
     "input": [
      "X, y = digits.data, digits.target\n",
      "print(\"data shape: %r, target shape: %r\" % (X.shape, y.shape))\n",
      "print(\"classes: %r\" % list(np.unique(y)))"
     ],
     "language": "python",
     "metadata": {},
     "outputs": [
      {
       "output_type": "stream",
       "stream": "stdout",
       "text": [
        "data shape: (1797, 64), target shape: (1797,)\n",
        "classes: [0, 1, 2, 3, 4, 5, 6, 7, 8, 9]\n"
       ]
      }
     ],
     "prompt_number": 3
    },
    {
     "cell_type": "code",
     "collapsed": false,
     "input": [
      "n_samples, n_features = X.shape\n",
      "print(\"n_samples=%d\" % n_samples)\n",
      "print(\"n_features=%d\" % n_features)"
     ],
     "language": "python",
     "metadata": {},
     "outputs": [
      {
       "output_type": "stream",
       "stream": "stdout",
       "text": [
        "n_samples=1797\n",
        "n_features=64\n"
       ]
      }
     ],
     "prompt_number": 4
    },
    {
     "cell_type": "code",
     "collapsed": false,
     "input": [
      "for i, j in enumerate(np.random.permutation(X.shape[0])[:5]):\n",
      "    pl.subplot(1, 5, (i + 1))\n",
      "    pl.imshow(X[j].reshape((8, 8)), interpolation='nearest')\n",
      "    pl.title(\"true class: %d\" % y[j])\n",
      "    pl.xticks(()), pl.yticks(())"
     ],
     "language": "python",
     "metadata": {},
     "outputs": [
      {
       "output_type": "display_data",
       "png": "[encoded data removed]",
       "text": [
        "<matplotlib.figure.Figure at 0x10a9e2b10>"
       ]
      }
     ],
     "prompt_number": 5
    },
    {
     "cell_type": "heading",
     "level": 2,
     "metadata": {},
     "source": [
      "Overfitting"
     ]
    },
    {
     "cell_type": "markdown",
     "metadata": {},
     "source": [
      "Overfitting is the problem of learning the training data by heart and being unable to generalize by making correct predictions on data samples unseen while training."
     ]
    },
    {
     "cell_type": "markdown",
     "metadata": {},
     "source": [
      "To illustrate this, let's train a Support Vector Machine naively on the digits dataset:"
     ]
    },
    {
     "cell_type": "code",
     "collapsed": false,
     "input": [
      "from sklearn.svm import SVC\n",
      "SVC().fit(X, y).score(X, y)"
     ],
     "language": "python",
     "metadata": {},
     "outputs": [
      {
       "output_type": "pyout",
       "prompt_number": 6,
       "text": [
        "1.0"
       ]
      }
     ],
     "prompt_number": 6
    },
    {
     "cell_type": "markdown",
     "metadata": {},
     "source": [
      "Did we really learn a perfect model that can recognize the correct digit class 100% of the time? **Without new data it's impossible to tell.**\n",
      "\n",
      "Let's start again and split the dataset into two random, non overlapping subsets:"
     ]
    },
    {
     "cell_type": "code",
     "collapsed": false,
     "input": [
      "from sklearn.cross_validation import train_test_split\n",
      "\n",
      "X_train, X_test, y_train, y_test = train_test_split(\n",
      "    X, y, test_size=0.25, random_state=0)\n",
      "\n",
      "print(\"train data shape: %r, train target shape: %r\"\n",
      "      % (X_train.shape, y_train.shape))\n",
      "print(\"test data shape: %r, test target shape: %r\"\n",
      "      % (X_test.shape, y_test.shape))"
     ],
     "language": "python",
     "metadata": {},
     "outputs": [
      {
       "output_type": "stream",
       "stream": "stdout",
       "text": [
        "train data shape: (1347, 64), train target shape: (1347,)\n",
        "test data shape: (450, 64), test target shape: (450,)\n"
       ]
      }
     ],
     "prompt_number": 7
    },
    {
     "cell_type": "markdown",
     "metadata": {},
     "source": [
      "Let's retrain a new model on the first subset call the **training set**:"
     ]
    },
    {
     "cell_type": "code",
     "collapsed": false,
     "input": [
      "svc = SVC(kernel='rbf').fit(X_train, y_train)\n",
      "train_score = svc.score(X_train, y_train) \n",
      "train_score"
     ],
     "language": "python",
     "metadata": {},
     "outputs": [
      {
       "output_type": "pyout",
       "prompt_number": 8,
       "text": [
        "1.0"
       ]
      }
     ],
     "prompt_number": 8
    },
    {
     "cell_type": "markdown",
     "metadata": {},
     "source": [
      "We can now compute the performance of the model on new, held out data from the **test set**:"
     ]
    },
    {
     "cell_type": "code",
     "collapsed": false,
     "input": [
      "test_score = svc.score(X_test, y_test)\n",
      "test_score"
     ],
     "language": "python",
     "metadata": {},
     "outputs": [
      {
       "output_type": "pyout",
       "prompt_number": 9,
       "text": [
        "0.48666666666666669"
       ]
      }
     ],
     "prompt_number": 9
    },
    {
     "cell_type": "markdown",
     "metadata": {},
     "source": [
      "This score is clearly not as good as expected! The model cannot generalize so well to new, unseen data.\n",
      "\n",
      "- Whenever the **test** data score is **not as good as** the **train** score the model is **overfitting**\n",
      "\n",
      "- Whenever the **train score is not close to 100%** accuracy the model is **underfitting**\n",
      "\n",
      "Ideally **we want to neither overfit nor underfit**: `test_score ~= train_score ~= 1.0`. "
     ]
    },
    {
     "cell_type": "markdown",
     "metadata": {},
     "source": [
      "The previous example failed to generalized well to test data because we naively used the default parameters of the `SVC` class:"
     ]
    },
    {
     "cell_type": "code",
     "collapsed": false,
     "input": [
      "svc"
     ],
     "language": "python",
     "metadata": {},
     "outputs": [
      {
       "output_type": "pyout",
       "prompt_number": 10,
       "text": [
        "SVC(C=1.0, cache_size=200, class_weight=None, coef0=0.0, degree=3, gamma=0.0,\n",
        "  kernel='rbf', max_iter=-1, probability=False, shrinking=True, tol=0.001,\n",
        "  verbose=False)"
       ]
      }
     ],
     "prompt_number": 10
    },
    {
     "cell_type": "markdown",
     "metadata": {},
     "source": [
      "Let's try again with another parameterization:"
     ]
    },
    {
     "cell_type": "code",
     "collapsed": false,
     "input": [
      "svc_2 = SVC(kernel='rbf', C=100, gamma=0.001).fit(X_train, y_train)\n",
      "svc_2"
     ],
     "language": "python",
     "metadata": {},
     "outputs": [
      {
       "output_type": "pyout",
       "prompt_number": 11,
       "text": [
        "SVC(C=100, cache_size=200, class_weight=None, coef0=0.0, degree=3,\n",
        "  gamma=0.001, kernel='rbf', max_iter=-1, probability=False,\n",
        "  shrinking=True, tol=0.001, verbose=False)"
       ]
      }
     ],
     "prompt_number": 11
    },
    {
     "cell_type": "code",
     "collapsed": false,
     "input": [
      "svc_2.score(X_train, y_train)"
     ],
     "language": "python",
     "metadata": {},
     "outputs": [
      {
       "output_type": "pyout",
       "prompt_number": 12,
       "text": [
        "1.0"
       ]
      }
     ],
     "prompt_number": 12
    },
    {
     "cell_type": "code",
     "collapsed": false,
     "input": [
      "svc_2.score(X_test, y_test)"
     ],
     "language": "python",
     "metadata": {},
     "outputs": [
      {
       "output_type": "pyout",
       "prompt_number": 13,
       "text": [
        "0.99333333333333329"
       ]
      }
     ],
     "prompt_number": 13
    },
    {
     "cell_type": "markdown",
     "metadata": {},
     "source": [
      "In this case the model is almost perfectly able to generalize, at least according to our random train, test split."
     ]
    },
    {
     "cell_type": "heading",
     "level": 2,
     "metadata": {},
     "source": [
      "Cross Validation"
     ]
    },
    {
     "cell_type": "markdown",
     "metadata": {},
     "source": [
      "Cross Validation is a procedure to repeat the train / test split several times to as to get a more accurate estimate of the real test score by averaging the values found of the individual runs.\n",
      "\n",
      "The `sklearn.cross_validation` package provides many strategies to compute such splits using class that implement the python iterator API:"
     ]
    },
    {
     "cell_type": "code",
     "collapsed": false,
     "input": [
      "from sklearn.cross_validation import ShuffleSplit\n",
      "\n",
      "cv = ShuffleSplit(n_samples, n_iter=3, test_size=0.1,\n",
      "    random_state=0)\n",
      "\n",
      "for cv_index, (train, test) in enumerate(cv):\n",
      "    print(\"# Cross Validation Iteration #%d\" % cv_index)\n",
      "    print(\"train indices: {0}...\".format(train[:10]))\n",
      "    print(\"test indices: {0}...\".format(test[:10]))\n",
      "    \n",
      "    svc = SVC(kernel=\"rbf\", C=1, gamma=0.001).fit(X[train], y[train])\n",
      "    print(\"train score: {0:.3f}, test score: {1:.3f}\\n\".format(\n",
      "        svc.score(X[train], y[train]), svc.score(X[test], y[test])))"
     ],
     "language": "python",
     "metadata": {},
     "outputs": [
      {
       "output_type": "stream",
       "stream": "stdout",
       "text": [
        "# Cross Validation Iteration #0\n",
        "train indices: [ 353    5   58 1349 1025  575 1074 1110 1745  689]...\n",
        "test indices: [1081 1707  927  713  262  182  303  895  933 1266]...\n",
        "train score: 0.999, test score: 0.989\n"
       ]
      },
      {
       "output_type": "stream",
       "stream": "stdout",
       "text": [
        "\n",
        "# Cross Validation Iteration #1\n",
        "train indices: [1336  608  977   22  526 1587 1130  569 1481  962]...\n",
        "test indices: [1014  755 1633  117  181  501  948 1076   45  659]...\n",
        "train score: 0.998, test score: 0.994\n"
       ]
      },
      {
       "output_type": "stream",
       "stream": "stdout",
       "text": [
        "\n",
        "# Cross Validation Iteration #2\n",
        "train indices: [ 451  409  911 1551  133  691 1306  111  852  825]...\n",
        "test indices: [ 795  697  655  573  412  743  635  851 1466 1383]...\n",
        "train score: 0.999, test score: 0.994\n"
       ]
      },
      {
       "output_type": "stream",
       "stream": "stdout",
       "text": [
        "\n"
       ]
      }
     ],
     "prompt_number": 14
    },
    {
     "cell_type": "markdown",
     "metadata": {},
     "source": [
      "Instead of doing the above manually, `sklearn.cross_validation` provides a little utility function to compute the cross validated test scores automatically:"
     ]
    },
    {
     "cell_type": "code",
     "collapsed": false,
     "input": [
      "from sklearn.cross_validation import cross_val_score\n",
      "\n",
      "svc = SVC(kernel=\"rbf\", C=1, gamma=0.001)\n",
      "cv = ShuffleSplit(n_samples, n_iter=10, test_size=0.1,\n",
      "    random_state=0)\n",
      "\n",
      "test_scores = cross_val_score(svc, X, y, cv=cv, n_jobs=2)\n",
      "test_scores"
     ],
     "language": "python",
     "metadata": {},
     "outputs": [
      {
       "output_type": "pyout",
       "prompt_number": 15,
       "text": [
        "array([ 0.98888889,  0.99444444,  0.99444444,  0.99444444,  0.99444444,\n",
        "        0.99444444,  0.98888889,  0.99444444,  0.98888889,  1.        ])"
       ]
      }
     ],
     "prompt_number": 15
    },
    {
     "cell_type": "code",
     "collapsed": false,
     "input": [
      "from scipy.stats import sem\n",
      "\n",
      "def mean_score(scores):\n",
      "    \"\"\"Print the empirical mean score and standard error of the mean.\"\"\"\n",
      "    return (\"Mean score: {0:.3f} (+/-{1:.3f})\").format(\n",
      "        np.mean(scores), sem(scores))"
     ],
     "language": "python",
     "metadata": {},
     "outputs": [],
     "prompt_number": 16
    },
    {
     "cell_type": "code",
     "collapsed": false,
     "input": [
      "print(mean_score(test_scores))"
     ],
     "language": "python",
     "metadata": {},
     "outputs": [
      {
       "output_type": "stream",
       "stream": "stdout",
       "text": [
        "Mean score: 0.993 (+/-0.001)\n"
       ]
      }
     ],
     "prompt_number": 17
    },
    {
     "cell_type": "markdown",
     "metadata": {},
     "source": [
      "**Exercise:** \n",
      "\n",
      "- Perform 50 iterations of cross validation with randomly sampled folds of 500 training samples and 500 test samples randomly sampled (use `sklearn.cross_validation.ShuffleSplit`).\n",
      "- Try with `SVC(C=1, gamma=0.01)`\n",
      "- Plot distribution the test error using an histogram with 50 bins.\n",
      "- Try to increas the training size\n",
      "- Retry with `SVC(C=10, gamma=0.005)`, then `SVC(C=10, gamma=0.001)` with 500 samples.\n",
      "\n",
      "- Optional: use a smoothed kernel density estimation `scipy.stats.kde.gaussian_kde` instead of an histogram to visualize the test error distribution.\n",
      "\n",
      "Hints, type:\n",
      "\n",
      "    from sklearn.cross_validation import ShuffleSplit\n",
      "    ShuffleSplit?  # to read the docstring of the shuffle split\n",
      "    pl.hist?  # to read the docstring of the histogram plot\n"
     ]
    },
    {
     "cell_type": "code",
     "collapsed": false,
     "input": [
      "cv = ShuffleSplit(n_samples, n_iter=50, train_size=500, test_size=500,\n",
      "    random_state=0)\n",
      "%time scores = cross_val_score(SVC(C=10, gamma=0.005), X, y, cv=cv)\n",
      "print(mean_score(scores))"
     ],
     "language": "python",
     "metadata": {},
     "outputs": [
      {
       "output_type": "stream",
       "stream": "stdout",
       "text": [
        "CPU times: user 4.49 s, sys: 16.6 ms, total: 4.51 s\n",
        "Wall time: 4.52 s\n",
        "Mean score: 0.905 (+/-0.004)\n"
       ]
      }
     ],
     "prompt_number": 18
    },
    {
     "cell_type": "code",
     "collapsed": false,
     "input": [
      "from scipy.stats.kde import gaussian_kde\n",
      "_ = pl.hist(scores, range=(0, 1), bins=30, alpha=0.2)\n",
      "x = np.linspace(0, 1, 1000)\n",
      "smoothed = gaussian_kde(scores).evaluate(x)\n",
      "pl.plot(x, smoothed, label=\"Smoothed distribution\")\n",
      "top = np.max(smoothed)\n",
      "pl.vlines([np.mean(scores)], 0, top, color='r', label=\"Mean test score\")\n",
      "pl.vlines([np.median(scores)], 0, top, color='b', linestyles='dashed',\n",
      "          label=\"Median test score\")\n",
      "pl.legend(loc='best')\n",
      "_ = pl.title(\"Cross Validated test scores distribution\")"
     ],
     "language": "python",
     "metadata": {},
     "outputs": [
      {
       "output_type": "display_data",
       "png": "[encoded data removed]",
       "text": [
        "<matplotlib.figure.Figure at 0x10c2481d0>"
       ]
      }
     ],
     "prompt_number": 19
    },
    {
     "cell_type": "heading",
     "level": 2,
     "metadata": {},
     "source": [
      "Plotting Learning Curves for Bias-Variance analysis"
     ]
    },
    {
     "cell_type": "markdown",
     "metadata": {},
     "source": [
      "In order to better understand the behavior of model (model class + contructor parameters), is it possible to run several cross validation steps for various random sub-samples of the training set and then plot the mean training and test errors.\n",
      "\n",
      "These plots are called the **learning curves**.\n",
      "\n",
      "sklearn does not yet provide turn-key utilities to plot such learning curves but is not very complicated to compute them by leveraging the `ShuffleSplit` class. First let's define a range of data set sizes for subsampling the training set:"
     ]
    },
    {
     "cell_type": "code",
     "collapsed": false,
     "input": [
      "train_sizes = np.logspace(2, 3, 5).astype(np.int)\n",
      "train_sizes"
     ],
     "language": "python",
     "metadata": {},
     "outputs": [
      {
       "output_type": "pyout",
       "prompt_number": 20,
       "text": [
        "array([ 100,  177,  316,  562, 1000])"
       ]
      }
     ],
     "prompt_number": 20
    },
    {
     "cell_type": "markdown",
     "metadata": {},
     "source": [
      "For each training set sizes we will compute `n_iter` cross validation iterations. Let's pre-allocate the arrays to store the results:"
     ]
    },
    {
     "cell_type": "code",
     "collapsed": false,
     "input": [
      "n_iter = 5\n",
      "train_scores = np.zeros((train_sizes.shape[0], n_iter), dtype=np.float)\n",
      "test_scores = np.zeros((train_sizes.shape[0], n_iter), dtype=np.float)"
     ],
     "language": "python",
     "metadata": {},
     "outputs": [],
     "prompt_number": 21
    },
    {
     "cell_type": "markdown",
     "metadata": {},
     "source": [
      "We can now loop over training set sizes and CV iterations:"
     ]
    },
    {
     "cell_type": "code",
     "collapsed": false,
     "input": [
      "svc = SVC(C=1, gamma=0.0005)\n",
      "\n",
      "for i, train_size in enumerate(train_sizes):\n",
      "    cv = ShuffleSplit(n_samples, n_iter=n_iter, train_size=train_size)\n",
      "    for j, (train, test) in enumerate(cv):\n",
      "        svc.fit(X[train], y[train])\n",
      "        train_scores[i, j] = svc.score(X[train], y[train])\n",
      "        test_scores[i, j] = svc.score(X[test], y[test])"
     ],
     "language": "python",
     "metadata": {},
     "outputs": [],
     "prompt_number": 22
    },
    {
     "cell_type": "markdown",
     "metadata": {},
     "source": [
      "We can now plot the mean scores with error bars that reflect the standard errors of the means:"
     ]
    },
    {
     "cell_type": "code",
     "collapsed": false,
     "input": [
      "mean_train = np.mean(train_scores, axis=1)\n",
      "confidence = sem(train_scores, axis=1) * 2\n",
      "\n",
      "pl.fill_between(train_sizes, mean_train - confidence, mean_train + confidence,\n",
      "                color = 'b', alpha = .2)\n",
      "pl.plot(train_sizes, mean_train, 'o-k', c='b', label='Train score')\n",
      "\n",
      "mean_test = np.mean(test_scores, axis=1)\n",
      "confidence = sem(test_scores, axis=1) * 2\n",
      "\n",
      "pl.fill_between(train_sizes, mean_test - confidence, mean_test + confidence,\n",
      "                color = 'g', alpha = .2)\n",
      "pl.plot(train_sizes, mean_test, 'o-k', c='g', label='Test score')\n",
      "\n",
      "pl.xlabel('Training set size')\n",
      "pl.ylabel('Score')\n",
      "pl.xlim(0, X_train.shape[0])\n",
      "pl.ylim((None, 1.01))  # The best possible score is 1.0\n",
      "pl.legend(loc='best')\n",
      "pl.title('Main train and test scores +/- 2 standard errors')\n",
      "\n",
      "pl.text(250, 0.9, \"Overfitting a lot\", fontsize=16, ha='center', va='bottom')\n",
      "pl.text(800, 0.9, \"Overfitting a little\", fontsize=16, ha='center', va='bottom')"
     ],
     "language": "python",
     "metadata": {},
     "outputs": [
      {
       "output_type": "pyout",
       "prompt_number": 23,
       "text": [
        "<matplotlib.text.Text at 0x10c291150>"
       ]
      },
      {
       "output_type": "display_data",
       "png": "[encoded data removed]",
       "text": [
        "<matplotlib.figure.Figure at 0x10c112b50>"
       ]
      }
     ],
     "prompt_number": 23
    },
    {
     "cell_type": "heading",
     "level": 2,
     "metadata": {},
     "source": [
      "Interpreting Learning Curves"
     ]
    },
    {
     "cell_type": "markdown",
     "metadata": {},
     "source": [
      "- If the **training set error is high** (e.g. more than 5% misclassification) at the end of the learning curve, the model suffers from **high bias** and is said to **underfit** the training set.\n",
      "\n",
      "- If the **testing set error is significantly larger than the training set error**, the model suffers from **high variance** and is said to **overfit** the training set.\n",
      "\n",
      "- Another possible source of high training and testing error is label noise: the data is too noisy and there is nothing few signal learn from it."
     ]
    },
    {
     "cell_type": "heading",
     "level": 3,
     "metadata": {},
     "source": [
      "What to do against overfitting?"
     ]
    },
    {
     "cell_type": "markdown",
     "metadata": {},
     "source": [
      "- Try to get rid of noisy features using **feature selection** methods (or better let the model do it if the regularization is able to do so: for instance l1 penalized linear models)\n",
      "- Try to tune parameters to add **more regularization**:\n",
      "    - Smaller values of `C` for SVM\n",
      "    - Larger values of `alpha` for penalized linear models\n",
      "    - Restrict to shallower trees (decision stumps) and lower numbers of samples per leafs for tree-based models\n",
      "- Try **simpler model families** such as penalized linear models (e.g. Linear SVM, Logistic Regression, Naive Bayes)\n",
      "- Try the ensemble strategies that **average several independently trained models** (e.g. bagging or blending ensembles): average the predictions of independently trained models\n",
      "- Collect more **labeled samples**"
     ]
    },
    {
     "cell_type": "heading",
     "level": 3,
     "metadata": {},
     "source": [
      "What to do against underfitting?"
     ]
    },
    {
     "cell_type": "markdown",
     "metadata": {},
     "source": [
      "- Give **more freedom** to the model by relaxing some parameters that act as regularizers:\n",
      "    - Larger values of `C` for SVM\n",
      "    - Smaller values of `alpha` for penalized linear models\n",
      "    - Allow deeper trees and lower numbers of samples per leafs for tree-based models\n",
      "- Try **more complex / expressive model families**:\n",
      "    - Non linear kernel SVMs,\n",
      "    - Ensemble of Decision Trees...\n",
      "- **Construct new features**:\n",
      "    - bi-gram frequencies for text classifications\n",
      "    - feature cross-products (possibly using the hashing trick)\n",
      "    - unsupervised features extraction (e.g. triangle k-means, auto-encoders...)\n",
      "    - non-linear kernel approximations + linear SVM instead of simple linear SVM"
     ]
    },
    {
     "cell_type": "markdown",
     "metadata": {},
     "source": [
      "**Exercise**:\n",
      "\n",
      "TODO: provide the parameters for an underfitting (model, dataset) pair then ask student to plot the learning curves and propose and test solutions \n",
      "\n",
      "TODO: provide the parameters for an overfitting (model, dataset) pair then ask the studen to plot learning curves and propose and test solutions "
     ]
    },
    {
     "cell_type": "code",
     "collapsed": true,
     "input": [],
     "language": "python",
     "metadata": {},
     "outputs": [],
     "prompt_number": 22
    },
    {
     "cell_type": "heading",
     "level": 2,
     "metadata": {},
     "source": [
      "Model Selection with Grid Search"
     ]
    },
    {
     "cell_type": "markdown",
     "metadata": {},
     "source": [
      "Cross Validation makes it possible to evaluate the performance of a model class and its hyper parameters on the task at hand.\n",
      "\n",
      "A natural extension is thus to run CV several times for various values of the parameters so as to find the best. For instance, let's fix the SVC parameter to `C=10` and compute the cross validated test score for various values of `gamma`:"
     ]
    },
    {
     "cell_type": "code",
     "collapsed": false,
     "input": [
      "n_gammas = 10\n",
      "n_iter = 5\n",
      "cv = ShuffleSplit(n_samples, n_iter=n_iter, train_size=500, test_size=500,\n",
      "    random_state=0)\n",
      "\n",
      "train_scores = np.zeros((n_gammas, n_iter))\n",
      "test_scores = np.zeros((n_gammas, n_iter))\n",
      "gammas = np.logspace(-7, -1, n_gammas)\n",
      "\n",
      "for i, gamma in enumerate(gammas):\n",
      "    for j, (train, test) in enumerate(cv):\n",
      "        clf = SVC(C=10, gamma=gamma).fit(X[train], y[train])\n",
      "        train_scores[i, j] = clf.score(X[train], y[train])\n",
      "        test_scores[i, j] = clf.score(X[test], y[test])"
     ],
     "language": "python",
     "metadata": {},
     "outputs": [],
     "prompt_number": 24
    },
    {
     "cell_type": "code",
     "collapsed": false,
     "input": [
      "for i in range(n_iter):\n",
      "    pl.semilogx(gammas, train_scores[:, i], alpha=0.4, lw=2, c='b')\n",
      "    pl.semilogx(gammas, test_scores[:, i], alpha=0.4, lw=2, c='g')\n",
      "pl.ylabel(\"score for SVC(C=10, gamma=gamma)\")\n",
      "pl.xlabel(\"gamma\")\n",
      "pl.text(1e-6, 0.5, \"Underfitting\", fontsize=16, ha='center', va='bottom')\n",
      "pl.text(1e-4, 0.5, \"Good\", fontsize=16, ha='center', va='bottom')\n",
      "pl.text(1e-2, 0.5, \"Overfitting\", fontsize=16, ha='center', va='bottom')"
     ],
     "language": "python",
     "metadata": {},
     "outputs": [
      {
       "output_type": "pyout",
       "prompt_number": 27,
       "text": [
        "<matplotlib.text.Text at 0x10d456750>"
       ]
      },
      {
       "output_type": "display_data",
       "png": "[encoded data removed]",
       "text": [
        "<matplotlib.figure.Figure at 0x10d14c690>"
       ]
      }
     ],
     "prompt_number": 27
    },
    {
     "cell_type": "markdown",
     "metadata": {},
     "source": [
      "We can see that when `C=10`, there is a sweet spot region for gamma around $10^4$ to $10^3$.\n",
      "\n",
      "We can do the same analysis to identify good values for C when gamma is fixed to $10^3$:"
     ]
    },
    {
     "cell_type": "code",
     "collapsed": false,
     "input": [
      "n_Cs = 10\n",
      "n_iter = 5\n",
      "cv = ShuffleSplit(n_samples, n_iter=n_iter, train_size=500, test_size=500,\n",
      "    random_state=0)\n",
      "\n",
      "train_scores = np.zeros((n_Cs, n_iter))\n",
      "test_scores = np.zeros((n_Cs, n_iter))\n",
      "Cs = np.logspace(-5, 5, n_Cs)\n",
      "\n",
      "for i, C in enumerate(Cs):\n",
      "    for j, (train, test) in enumerate(cv):\n",
      "        clf = SVC(C=C, gamma=1e-3).fit(X[train], y[train])\n",
      "        train_scores[i, j] = clf.score(X[train], y[train])\n",
      "        test_scores[i, j] = clf.score(X[test], y[test])"
     ],
     "language": "python",
     "metadata": {},
     "outputs": [],
     "prompt_number": 28
    },
    {
     "cell_type": "code",
     "collapsed": false,
     "input": [
      "for i in range(n_iter):\n",
      "    pl.semilogx(Cs, train_scores[:, i], alpha=0.4, lw=2, c='b')\n",
      "    pl.semilogx(Cs, test_scores[:, i], alpha=0.4, lw=2, c='g')\n",
      "pl.ylabel(\"score for SVC(C=C, gamma=1e-3)\")\n",
      "pl.xlabel(\"C\")\n",
      "pl.text(1e-3, 0.5, \"Underfitting\", fontsize=16, ha='center', va='bottom')\n",
      "pl.text(1e3, 0.5, \"Few Overfitting\", fontsize=16, ha='center', va='bottom')"
     ],
     "language": "python",
     "metadata": {},
     "outputs": [
      {
       "output_type": "pyout",
       "prompt_number": 29,
       "text": [
        "<matplotlib.text.Text at 0x10d145b10>"
       ]
      },
      {
       "output_type": "display_data",
       "png": "[encoded data removed]",
       "text": [
        "<matplotlib.figure.Figure at 0x10d1457d0>"
       ]
      }
     ],
     "prompt_number": 29
    },
    {
     "cell_type": "markdown",
     "metadata": {},
     "source": [
      "Doing this procedure several for each parameter combination is tedious, hence it's possible to automate the procedure by computing the test score for all possible combinations of parameters using the `GridSearchCV` helper."
     ]
    },
    {
     "cell_type": "code",
     "collapsed": false,
     "input": [
      "from sklearn.grid_search import GridSearchCV\n",
      "#help(GridSearchCV)"
     ],
     "language": "python",
     "metadata": {},
     "outputs": [],
     "prompt_number": 107
    },
    {
     "cell_type": "code",
     "collapsed": false,
     "input": [
      "from pprint import pprint\n",
      "svc_params = {\n",
      "    'C': np.logspace(-1, 2, 4),\n",
      "    'gamma': np.logspace(-4, 0, 5),\n",
      "}\n",
      "pprint(svc_params)"
     ],
     "language": "python",
     "metadata": {},
     "outputs": [
      {
       "output_type": "stream",
       "stream": "stdout",
       "text": [
        "{'C': array([   0.1,    1. ,   10. ,  100. ]),\n",
        " 'gamma': array([  1.00000000e-04,   1.00000000e-03,   1.00000000e-02,\n",
        "         1.00000000e-01,   1.00000000e+00])}\n"
       ]
      }
     ],
     "prompt_number": 108
    },
    {
     "cell_type": "markdown",
     "metadata": {},
     "source": [
      "As Grid Search is a costly procedure, let's do the some experiments with a smaller dataset:"
     ]
    },
    {
     "cell_type": "code",
     "collapsed": false,
     "input": [
      "n_subsamples = 500\n",
      "X_small_train, y_small_train = X_train[:n_subsamples], y_train[:n_subsamples]"
     ],
     "language": "python",
     "metadata": {},
     "outputs": [],
     "prompt_number": 109
    },
    {
     "cell_type": "code",
     "collapsed": false,
     "input": [
      "gs_svc = GridSearchCV(SVC(), svc_params, cv=3, n_jobs=-1)\n",
      "\n",
      "%time _ = gs_svc.fit(X_small_train, y_small_train)"
     ],
     "language": "python",
     "metadata": {},
     "outputs": [
      {
       "output_type": "stream",
       "stream": "stdout",
       "text": [
        "CPU times: user 104 ms, sys: 54.8 ms, total: 159 ms\n",
        "Wall time: 1.26 s\n"
       ]
      }
     ],
     "prompt_number": 110
    },
    {
     "cell_type": "code",
     "collapsed": false,
     "input": [
      "gs_svc.best_params_, gs_svc.best_score_"
     ],
     "language": "python",
     "metadata": {},
     "outputs": [
      {
       "output_type": "pyout",
       "prompt_number": 111,
       "text": [
        "({'C': 1.0, 'gamma': 0.001}, 0.9659957194045643)"
       ]
      }
     ],
     "prompt_number": 111
    },
    {
     "cell_type": "markdown",
     "metadata": {},
     "source": [
      "Let's define a couple of helper function to help us introspect the details of the grid search outcome:"
     ]
    },
    {
     "cell_type": "code",
     "collapsed": false,
     "input": [
      "def display_scores(params, scores, append_star=False):\n",
      "    \"\"\"Format the mean score +/- std error for params\"\"\"\n",
      "    params = \", \".join(\"{0}={1}\".format(k, v)\n",
      "                      for k, v in params.items())\n",
      "    line = \"{0}:\\t{1:.3f} (+/-{2:.3f})\".format(\n",
      "        params, np.mean(scores), sem(scores))\n",
      "    if append_star:\n",
      "        line += \" *\"\n",
      "    return line\n",
      "\n",
      "def display_grid_scores(grid_scores, top=None):\n",
      "    \"\"\"Helper function to format a report on a grid of scores\"\"\"\n",
      "    \n",
      "    grid_scores = sorted(grid_scores, key=lambda x: x[1], reverse=True)\n",
      "    if top is not None:\n",
      "        grid_scores = grid_scores[:top]\n",
      "        \n",
      "    # Compute a threshold for staring models with overlapping\n",
      "    # stderr:\n",
      "    _, best_mean, best_scores = grid_scores[0]\n",
      "    threshold = best_mean - 2 * sem(best_scores)\n",
      "    \n",
      "    for params, mean_score, scores in grid_scores:\n",
      "        append_star = mean_score + 2 * sem(scores) > threshold\n",
      "        print(display_scores(params, scores, append_star=append_star))"
     ],
     "language": "python",
     "metadata": {},
     "outputs": [],
     "prompt_number": 112
    },
    {
     "cell_type": "code",
     "collapsed": false,
     "input": [
      "display_grid_scores(gs_svc.grid_scores_, top=20)"
     ],
     "language": "python",
     "metadata": {},
     "outputs": [
      {
       "output_type": "stream",
       "stream": "stdout",
       "text": [
        "C=1.0, gamma=0.001:\t0.966 (+/-0.009) *\n",
        "C=10.0, gamma=0.001:\t0.966 (+/-0.002) *\n",
        "C=100.0, gamma=0.001:\t0.966 (+/-0.002) *\n",
        "C=10.0, gamma=0.0001:\t0.966 (+/-0.008) *\n",
        "C=100.0, gamma=0.0001:\t0.962 (+/-0.007) *\n",
        "C=1.0, gamma=0.0001:\t0.922 (+/-0.003)\n",
        "C=0.1, gamma=0.001:\t0.722 (+/-0.008)\n",
        "C=10.0, gamma=0.01:\t0.314 (+/-0.018)\n",
        "C=100.0, gamma=0.01:\t0.314 (+/-0.018)\n",
        "C=1.0, gamma=0.01:\t0.266 (+/-0.012)\n",
        "C=0.1, gamma=0.0001:\t0.168 (+/-0.003)\n",
        "C=0.1, gamma=0.01:\t0.128 (+/-0.002)\n",
        "C=0.1, gamma=0.1:\t0.128 (+/-0.002)\n",
        "C=0.1, gamma=1.0:\t0.128 (+/-0.002)\n",
        "C=1.0, gamma=0.1:\t0.128 (+/-0.002)\n",
        "C=1.0, gamma=1.0:\t0.128 (+/-0.002)\n",
        "C=10.0, gamma=0.1:\t0.128 (+/-0.002)\n",
        "C=10.0, gamma=1.0:\t0.128 (+/-0.002)\n",
        "C=100.0, gamma=0.1:\t0.128 (+/-0.002)\n",
        "C=100.0, gamma=1.0:\t0.128 (+/-0.002)\n"
       ]
      }
     ],
     "prompt_number": 113
    },
    {
     "cell_type": "markdown",
     "metadata": {},
     "source": [
      "One can see that Support Vector Machine with RBF kernel are very sensitive wrt. the `gamma` parameter (the badwith of the kernel) and to some lesser extend to the `C` parameter as well. If those parameter are not grid searched, the predictive accurracy of the support vector machine is almost no better than random guessing!"
     ]
    },
    {
     "cell_type": "markdown",
     "metadata": {},
     "source": [
      "By default, the `GridSearchCV` class refits a final model on the complete training set with the best parameters found by during the grid search:"
     ]
    },
    {
     "cell_type": "code",
     "collapsed": false,
     "input": [
      "gs_svc.score(X_test, y_test)"
     ],
     "language": "python",
     "metadata": {},
     "outputs": [
      {
       "output_type": "pyout",
       "prompt_number": 114,
       "text": [
        "0.98444444444444446"
       ]
      }
     ],
     "prompt_number": 114
    },
    {
     "cell_type": "markdown",
     "metadata": {},
     "source": [
      "Evaluating this final model on the real test set will often yield a better score because of the larger training set, especially when the training set is small and the number of cross validation folds is small (`cv=3` here)."
     ]
    },
    {
     "cell_type": "markdown",
     "metadata": {},
     "source": [
      "**Exercise**:\n",
      "\n",
      "1. Find a set of parameters for an `sklearn.tree.DecisionTreeClassifier` on the `X_small_train` / `y_small_train` digits dataset to reach at least 75% accuracy on the sample dataset (500 training samples)\n",
      "2. In particular you can grid search good values for `criterion`, `min_samples_split` and `max_depth`\n",
      "3. Which parameter(s) seems to be the most important to tune?\n",
      "4. Retry with `sklearn.ensemble.ExtraTreesClassifier(n_estimators=50)` which is a randomized ensemble of decision trees. Does the parameters that make the single trees work best also make the ensemble model work best?\n",
      "\n",
      "Hints:\n",
      "\n",
      "- If the outcome of the grid search is too instable (overlapping std errors), increase the number of CV folds with `cv` constructor parameter. The default value is `cv=3`. Increasing it to `cv=5` or `cv=10` often yield more stable results but at the price of longer evaluation times.\n",
      "- Start with a small grid, e.g. 2 values `criterion` and 3 for `min_samples_split` only to avoid having to wait for too long at first.\n",
      "\n",
      "Type:\n",
      "\n",
      "    from sklearn.tree.DecisionTreeClassifier\n",
      "    DecisionTreeClassifier?  # to read the docstring and know the list of important parameters\n",
      "    print(DecisionTreeClassifier())  # to show the list of default values\n",
      "\n",
      "    from sklearn.ensemble.ExtraTreesClassifier\n",
      "    ExtraTreesClassifier? \n",
      "    print(ExtraTreesClassifier())"
     ]
    },
    {
     "cell_type": "markdown",
     "metadata": {},
     "source": [
      "**Solution**:"
     ]
    },
    {
     "cell_type": "code",
     "collapsed": false,
     "input": [
      "from sklearn.tree import DecisionTreeClassifier\n",
      "DecisionTreeClassifier()"
     ],
     "language": "python",
     "metadata": {},
     "outputs": [
      {
       "output_type": "pyout",
       "prompt_number": 131,
       "text": [
        "DecisionTreeClassifier(compute_importances=False, criterion='gini',\n",
        "            max_depth=None, max_features=None, min_density=0.1,\n",
        "            min_samples_leaf=1, min_samples_split=2, random_state=None)"
       ]
      }
     ],
     "prompt_number": 131
    },
    {
     "cell_type": "code",
     "collapsed": false,
     "input": [
      "tree = DecisionTreeClassifier()\n",
      "\n",
      "tree_params = {\n",
      "    'criterion': ['gini', 'entropy'],\n",
      "    'min_samples_split': [2, 10, 20],\n",
      "    'max_depth': [5, 7, None],\n",
      "}\n",
      "\n",
      "cv = ShuffleSplit(n_subsamples, n_iter=10, test_size=0.1)\n",
      "gs_tree = GridSearchCV(tree, tree_params, n_jobs=-1, cv=cv)\n",
      "\n",
      "%time gs_tree.fit(X_train[:n_samples], y_train[:n_samples])\n",
      "display_grid_scores(gs_tree.grid_scores_)"
     ],
     "language": "python",
     "metadata": {},
     "outputs": [
      {
       "output_type": "stream",
       "stream": "stdout",
       "text": [
        "CPU times: user 357 ms, sys: 201 ms, total: 557 ms\n",
        "Wall time: 1.2 s\n",
        "min_samples_split=10, criterion=entropy, max_depth=None:\t0.828 (+/-0.013) *\n",
        "min_samples_split=10, criterion=entropy, max_depth=7:\t0.790 (+/-0.023) *\n",
        "min_samples_split=2, criterion=entropy, max_depth=None:\t0.780 (+/-0.019) *\n",
        "min_samples_split=20, criterion=entropy, max_depth=7:\t0.778 (+/-0.015) *\n",
        "min_samples_split=20, criterion=gini, max_depth=7:\t0.776 (+/-0.013)\n",
        "min_samples_split=2, criterion=entropy, max_depth=7:\t0.774 (+/-0.019) *\n",
        "min_samples_split=10, criterion=gini, max_depth=7:\t0.770 (+/-0.021) *\n",
        "min_samples_split=2, criterion=gini, max_depth=None:\t0.766 (+/-0.022) *\n",
        "min_samples_split=2, criterion=gini, max_depth=7:\t0.766 (+/-0.020) *\n",
        "min_samples_split=10, criterion=entropy, max_depth=5:\t0.762 (+/-0.015)\n",
        "min_samples_split=20, criterion=entropy, max_depth=None:\t0.762 (+/-0.019)\n",
        "min_samples_split=10, criterion=gini, max_depth=None:\t0.760 (+/-0.017)\n",
        "min_samples_split=20, criterion=gini, max_depth=None:\t0.758 (+/-0.018)\n",
        "min_samples_split=2, criterion=entropy, max_depth=5:\t0.758 (+/-0.018)\n",
        "min_samples_split=20, criterion=entropy, max_depth=5:\t0.706 (+/-0.019)\n",
        "min_samples_split=10, criterion=gini, max_depth=5:\t0.690 (+/-0.025)\n",
        "min_samples_split=2, criterion=gini, max_depth=5:\t0.664 (+/-0.022)\n",
        "min_samples_split=20, criterion=gini, max_depth=5:\t0.634 (+/-0.015)\n"
       ]
      }
     ],
     "prompt_number": 136
    },
    {
     "cell_type": "markdown",
     "metadata": {},
     "source": [
      "As the dataset is quite small and decision trees are prone to overfitting, we need cross validate many times (e.g. `n_iter=50`) to get standard error of the mean test score below `0.010`.\n",
      "\n",
      "At that level of precision one can observe that the `entropy` split criterion yields slightly better predictions than `gini`. One can also observe that traditional regularization strategies (limiting the depth of the tree or giving a minimum number of samples to allow for a node to split does not work well on this problem.\n",
      "\n",
      "Indeed, the unregularized decision tree (`max_depth=None` and `min_samples_split=2`) is among the top performers while it is clearly overfitting:"
     ]
    },
    {
     "cell_type": "code",
     "collapsed": false,
     "input": [
      "unreg_tree = DecisionTreeClassifier(criterion='entropy', max_depth=None,\n",
      "                                    min_samples_split=2)\n",
      "unreg_tree.fit(X_small_train, y_small_train)\n",
      "print(\"Train score: %0.3f\" % unreg_tree.score(X_small_train, y_small_train))\n",
      "print(\"Test score: %0.3f\" % unreg_tree.score(X_test, y_test))"
     ],
     "language": "python",
     "metadata": {},
     "outputs": [
      {
       "output_type": "stream",
       "stream": "stdout",
       "text": [
        "Train score: 1.000\n",
        "Test score: 0.784\n"
       ]
      }
     ],
     "prompt_number": 118
    },
    {
     "cell_type": "markdown",
     "metadata": {},
     "source": [
      "Limiting the depth to 7 or setting the minimum number of samples to 20: this regularization add as much bias (hence training error) as it removes variance (as measured by the gap between training and test score) hence does not make it possible to solve the overfitting issue efficiently, for instance:"
     ]
    },
    {
     "cell_type": "code",
     "collapsed": false,
     "input": [
      "reg_tree = DecisionTreeClassifier(criterion='entropy', max_depth=7,\n",
      "                                    min_samples_split=10)\n",
      "reg_tree.fit(X_small_train, y_small_train)\n",
      "print(\"Train score: %0.3f\" % reg_tree.score(X_small_train, y_small_train))\n",
      "print(\"Test score: %0.3f\" % reg_tree.score(X_test, y_test))"
     ],
     "language": "python",
     "metadata": {},
     "outputs": [
      {
       "output_type": "stream",
       "stream": "stdout",
       "text": [
        "Train score: 0.940\n",
        "Test score: 0.776\n"
       ]
      }
     ],
     "prompt_number": 119
    },
    {
     "cell_type": "markdown",
     "metadata": {},
     "source": [
      "From the grid scores results one can also observe that regularizing too much is clearly detrimental: the models with a depth limited to 5 are clearly inferior to those limited to 7 or not depth limited at all (on this dataset)."
     ]
    },
    {
     "cell_type": "markdown",
     "metadata": {},
     "source": [
      "To combat overfitting, of decision trees, it is preferable to use an ensemble approach that randomize the learning even further and then average the predictions as we will see with the `ExtraTreesClassifier` model class:"
     ]
    },
    {
     "cell_type": "code",
     "collapsed": false,
     "input": [
      "from sklearn.ensemble import ExtraTreesClassifier\n",
      "print(ExtraTreesClassifier())\n",
      "#ExtraTreesClassifier?"
     ],
     "language": "python",
     "metadata": {},
     "outputs": [
      {
       "output_type": "stream",
       "stream": "stdout",
       "text": [
        "ExtraTreesClassifier(bootstrap=False, compute_importances=False,\n",
        "           criterion=gini, max_depth=None, max_features=auto,\n",
        "           min_density=0.1, min_samples_leaf=1, min_samples_split=2,\n",
        "           n_estimators=10, n_jobs=1, oob_score=False, random_state=None,\n",
        "           verbose=0)\n"
       ]
      }
     ],
     "prompt_number": 120
    },
    {
     "cell_type": "code",
     "collapsed": false,
     "input": [
      "trees = ExtraTreesClassifier(n_estimators=30)\n",
      "\n",
      "cv = ShuffleSplit(n_subsamples, n_iter=5, test_size=0.1)\n",
      "gs_trees = GridSearchCV(trees, tree_params, n_jobs=-1, cv=cv)\n",
      "\n",
      "%time gs_trees.fit(X_small_train, y_small_train)\n",
      "display_grid_scores(gs_trees.grid_scores_)"
     ],
     "language": "python",
     "metadata": {},
     "outputs": [
      {
       "output_type": "stream",
       "stream": "stdout",
       "text": [
        "CPU times: user 587 ms, sys: 74.9 ms, total: 662 ms\n",
        "Wall time: 8.41 s\n",
        "min_samples_split=2, criterion=entropy, max_depth=None:\t0.960 (+/-0.011) *\n",
        "min_samples_split=2, criterion=gini, max_depth=7:\t0.956 (+/-0.016) *\n",
        "min_samples_split=10, criterion=entropy, max_depth=7:\t0.956 (+/-0.012) *\n",
        "min_samples_split=2, criterion=gini, max_depth=5:\t0.952 (+/-0.010) *\n",
        "min_samples_split=10, criterion=gini, max_depth=None:\t0.952 (+/-0.010) *\n",
        "min_samples_split=2, criterion=entropy, max_depth=5:\t0.952 (+/-0.010) *\n",
        "min_samples_split=20, criterion=entropy, max_depth=5:\t0.952 (+/-0.008) *\n",
        "min_samples_split=2, criterion=entropy, max_depth=7:\t0.952 (+/-0.014) *\n",
        "min_samples_split=20, criterion=gini, max_depth=None:\t0.932 (+/-0.016) *\n",
        "min_samples_split=10, criterion=entropy, max_depth=None:\t0.932 (+/-0.022) *\n",
        "min_samples_split=20, criterion=entropy, max_depth=None:\t0.932 (+/-0.014) *\n",
        "min_samples_split=20, criterion=gini, max_depth=7:\t0.928 (+/-0.019) *\n",
        "min_samples_split=2, criterion=gini, max_depth=None:\t0.928 (+/-0.012) *\n",
        "min_samples_split=20, criterion=gini, max_depth=5:\t0.924 (+/-0.026) *\n",
        "min_samples_split=10, criterion=gini, max_depth=7:\t0.924 (+/-0.012) *\n",
        "min_samples_split=10, criterion=gini, max_depth=5:\t0.912 (+/-0.012)\n",
        "min_samples_split=20, criterion=entropy, max_depth=7:\t0.912 (+/-0.019) *\n",
        "min_samples_split=10, criterion=entropy, max_depth=5:\t0.900 (+/-0.032) *\n"
       ]
      }
     ],
     "prompt_number": 138
    },
    {
     "cell_type": "markdown",
     "metadata": {},
     "source": [
      "A couple of remarks:\n",
      "\n",
      "  - `ExtraTreesClassifier` achieve a much better generalization than individual decistion trees (0.97 vs 0.80) even on such a small dataset so they are indeed able to solve the overfitting issue of individual decision trees.\n",
      "\n",
      "  - `ExtraTreesClassifier` are much longer to train than individual trees but the fact that the predictions is averaged makes it no necessary to cross validate as many times to reach a stderr on the order of `0.010`.\n",
      "\n",
      "  - `ExtraTreesClassifier` are very robust to the choice of the parameters: most grid search point achieve a good prediction (even when higly regularized) although too much regularization is harmful. We can also note that the split criterion is no longer relevant."
     ]
    },
    {
     "cell_type": "markdown",
     "metadata": {},
     "source": [
      "Finally one can also observe that despite the high level of randomization of the individual trees, an ensemble model composed of unregularized trees is not underfitting:"
     ]
    },
    {
     "cell_type": "code",
     "collapsed": false,
     "input": [
      "unreg_trees = ExtraTreesClassifier(n_estimators=50, max_depth=None, min_samples_split=2)\n",
      "unreg_trees.fit(X_small_train, y_small_train)\n",
      "print(\"Train score: %0.3f\" % unreg_trees.score(X_small_train, y_small_train))\n",
      "print(\"Test score: %0.3f\" % unreg_trees.score(X_test, y_test))"
     ],
     "language": "python",
     "metadata": {},
     "outputs": [
      {
       "output_type": "stream",
       "stream": "stdout",
       "text": [
        "Train score: 1.000\n",
        "Test score: 0.958\n"
       ]
      }
     ],
     "prompt_number": 128
    },
    {
     "cell_type": "markdown",
     "metadata": {},
     "source": [
      "More interesting, an ensemble model composed of regularized trees is not underfitting much less than the individual regularized trees:"
     ]
    },
    {
     "cell_type": "code",
     "collapsed": false,
     "input": [
      "reg_trees = ExtraTreesClassifier(n_estimators=50, max_depth=7, min_samples_split=10)\n",
      "reg_trees.fit(X_small_train, y_small_train)\n",
      "print(\"Train score: %0.3f\" % reg_trees.score(X_small_train, y_small_train))\n",
      "print(\"Test score: %0.3f\" % reg_trees.score(X_test, y_test))"
     ],
     "language": "python",
     "metadata": {},
     "outputs": [
      {
       "output_type": "stream",
       "stream": "stdout",
       "text": [
        "Train score: 0.994\n",
        "Test score: 0.947\n"
       ]
      }
     ],
     "prompt_number": 129
    },
    {
     "cell_type": "heading",
     "level": 2,
     "metadata": {},
     "source": [
      "Final Model Assessment"
     ]
    },
    {
     "cell_type": "markdown",
     "metadata": {},
     "source": [
      "- Risk of not taking into account the overfitting of the grid search procedure it-self\n",
      "- Development / Evaluation sets split\n",
      "- Development used for Grid Search and training of the model with optimal parameter set\n",
      "- Hold out evaluation set used **only** for estimating the predictive performance of the resulting model\n",
      "- Recommended to use temporal split for the Development / Evaluation split for data points collected over time (for instance  2008-2011 for development, 2012 for evaluation)."
     ]
    },
    {
     "cell_type": "code",
     "collapsed": false,
     "input": [
      "# TODO: use matplotlib to generate train / validation / test splits where\n",
      "# train +  validation is the development set and test is the evaluation set"
     ],
     "language": "python",
     "metadata": {},
     "outputs": []
    },
    {
     "cell_type": "code",
     "collapsed": false,
     "input": [],
     "language": "python",
     "metadata": {},
     "outputs": []
    }
   ],
   "metadata": {}
  }
 ]
}