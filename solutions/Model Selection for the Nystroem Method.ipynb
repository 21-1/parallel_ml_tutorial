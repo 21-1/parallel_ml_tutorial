{
 "metadata": {
  "name": "Model Selection for the Nystroem Method"
 },
 "nbformat": 3,
 "nbformat_minor": 0,
 "worksheets": [
  {
   "cells": [
    {
     "cell_type": "code",
     "collapsed": false,
     "input": [
      "import sys\n",
      "sys.path.append('..')"
     ],
     "language": "python",
     "metadata": {},
     "outputs": [],
     "prompt_number": 31
    },
    {
     "cell_type": "code",
     "collapsed": false,
     "input": [
      "from tutolib import mmap, model_selection\n",
      "_ = reload(mmap), reload(model_selection)"
     ],
     "language": "python",
     "metadata": {},
     "outputs": [],
     "prompt_number": 52
    },
    {
     "cell_type": "code",
     "collapsed": false,
     "input": [
      "from sklearn.datasets import load_digits\n",
      "from sklearn.preprocessing import MinMaxScaler\n",
      "\n",
      "digits = load_digits()\n",
      "\n",
      "X = MinMaxScaler().fit_transform(digits.data)\n",
      "y = digits.target\n",
      "\n",
      "digits_cv_split_filenames = mmap.persist_cv_splits('digits_10', X, y, 10)\n",
      "digits_cv_split_filenames"
     ],
     "language": "python",
     "metadata": {},
     "outputs": [
      {
       "output_type": "pyout",
       "prompt_number": 3,
       "text": [
        "['/Users/ogrisel/coding/parallel_ml_tutorial/solutions/digits_10_cv_000.pkl',\n",
        " '/Users/ogrisel/coding/parallel_ml_tutorial/solutions/digits_10_cv_001.pkl',\n",
        " '/Users/ogrisel/coding/parallel_ml_tutorial/solutions/digits_10_cv_002.pkl',\n",
        " '/Users/ogrisel/coding/parallel_ml_tutorial/solutions/digits_10_cv_003.pkl',\n",
        " '/Users/ogrisel/coding/parallel_ml_tutorial/solutions/digits_10_cv_004.pkl',\n",
        " '/Users/ogrisel/coding/parallel_ml_tutorial/solutions/digits_10_cv_005.pkl',\n",
        " '/Users/ogrisel/coding/parallel_ml_tutorial/solutions/digits_10_cv_006.pkl',\n",
        " '/Users/ogrisel/coding/parallel_ml_tutorial/solutions/digits_10_cv_007.pkl',\n",
        " '/Users/ogrisel/coding/parallel_ml_tutorial/solutions/digits_10_cv_008.pkl',\n",
        " '/Users/ogrisel/coding/parallel_ml_tutorial/solutions/digits_10_cv_009.pkl']"
       ]
      }
     ],
     "prompt_number": 3
    },
    {
     "cell_type": "code",
     "collapsed": false,
     "input": [
      "from IPython.parallel import Client\n",
      "client = Client()\n",
      "lb_view = client.load_balanced_view()"
     ],
     "language": "python",
     "metadata": {},
     "outputs": [],
     "prompt_number": 47
    },
    {
     "cell_type": "code",
     "collapsed": false,
     "input": [
      "mmap.warm_mmap_on_cv_splits(client, digits_cv_split_filenames)"
     ],
     "language": "python",
     "metadata": {},
     "outputs": [],
     "prompt_number": 5
    },
    {
     "cell_type": "code",
     "collapsed": false,
     "input": [
      "from sklearn.svm import LinearSVC\n",
      "from collections import OrderedDict\n",
      "import numpy as np\n",
      "\n",
      "linear_svc_params = OrderedDict((\n",
      "    ('C', np.logspace(-2, 2, 5)),\n",
      "))\n",
      "linear_svc = LinearSVC()"
     ],
     "language": "python",
     "metadata": {},
     "outputs": [],
     "prompt_number": 6
    },
    {
     "cell_type": "code",
     "collapsed": false,
     "input": [
      "linear_svc_search = model_selection.RandomizedGridSeach(lb_view)\n",
      "linear_svc_search.launch_for_splits(linear_svc, linear_svc_params, digits_cv_split_filenames)"
     ],
     "language": "python",
     "metadata": {},
     "outputs": [
      {
       "output_type": "pyout",
       "prompt_number": 68,
       "text": [
        "Progress: 00% (000/050)\n"
       ]
      }
     ],
     "prompt_number": 68
    },
    {
     "cell_type": "code",
     "collapsed": false,
     "input": [
      "linear_svc_search"
     ],
     "language": "python",
     "metadata": {},
     "outputs": [
      {
       "output_type": "pyout",
       "prompt_number": 133,
       "text": [
        "Progress: 100% (050/050)\n",
        "\n",
        "Rank 1: validation: 0.96356 (+/-0.00299) train: 0.99220 (+/-0.00053):\n",
        " {'C': 1.0}\n",
        "Rank 2: validation: 0.96200 (+/-0.00325) train: 0.97632 (+/-0.00094):\n",
        " {'C': 0.10000000000000001}\n",
        "Rank 3: validation: 0.95933 (+/-0.00248) train: 0.99673 (+/-0.00023):\n",
        " {'C': 10.0}\n",
        "Rank 4: validation: 0.95067 (+/-0.00386) train: 0.99562 (+/-0.00064):\n",
        " {'C': 100.0}\n",
        "Rank 5: validation: 0.93822 (+/-0.00423) train: 0.95286 (+/-0.00114):\n",
        " {'C': 0.01}"
       ]
      }
     ],
     "prompt_number": 133
    },
    {
     "cell_type": "code",
     "collapsed": false,
     "input": [
      "from sklearn.kernel_approximation import Nystroem\n",
      "from sklearn.pipeline import Pipeline\n",
      "\n",
      "pipeline = Pipeline([\n",
      "    ('nystroem', Nystroem()),\n",
      "    ('clf', LinearSVC()),\n",
      "])"
     ],
     "language": "python",
     "metadata": {},
     "outputs": [],
     "prompt_number": 134
    },
    {
     "cell_type": "code",
     "collapsed": false,
     "input": [
      "pipeline_params = OrderedDict((\n",
      "#    ('nystroem__n_components', [50, 100, 200]),\n",
      "    ('nystroem__gamma', np.logspace(-2, 2, 5)),\n",
      "    ('clf__C', np.logspace(-2, 2, 5)),\n",
      "))"
     ],
     "language": "python",
     "metadata": {},
     "outputs": [],
     "prompt_number": 136
    },
    {
     "cell_type": "code",
     "collapsed": false,
     "input": [
      "search = model_selection.RandomizedGridSeach(lb_view)\n",
      "search.launch_for_splits(pipeline, pipeline_params, digits_cv_split_filenames)"
     ],
     "language": "python",
     "metadata": {},
     "outputs": [
      {
       "output_type": "pyout",
       "prompt_number": 146,
       "text": [
        "Progress: 00% (000/250)\n"
       ]
      }
     ],
     "prompt_number": 146
    },
    {
     "cell_type": "code",
     "collapsed": false,
     "input": [
      "search"
     ],
     "language": "python",
     "metadata": {},
     "outputs": [
      {
       "output_type": "pyout",
       "prompt_number": 213,
       "text": [
        "Progress: 20% (050/250)\n",
        "\n",
        "Rank 1: validation: 0.98022 (+/-0.00293) train: 0.99800 (+/-0.00027):\n",
        " {'clf__C': 10.0, 'nystroem__gamma': 0.10000000000000001}\n",
        "Rank 2: validation: 0.97556 (+/-0.00215) train: 0.98797 (+/-0.00068):\n",
        " {'clf__C': 1.0, 'nystroem__gamma': 0.10000000000000001}\n",
        "Rank 3: validation: 0.91333 (+/-0.00446) train: 0.92480 (+/-0.00143):\n",
        " {'clf__C': 0.10000000000000001, 'nystroem__gamma': 0.01}\n",
        "Rank 4: validation: 0.73489 (+/-0.01432) train: 0.77706 (+/-0.01059):\n",
        " {'clf__C': 0.01, 'nystroem__gamma': 1.0}\n",
        "Rank 5: validation: 0.08822 (+/-0.00318) train: 0.17305 (+/-0.00066):\n",
        " {'clf__C': 10.0, 'nystroem__gamma': 100.0}"
       ]
      }
     ],
     "prompt_number": 213
    },
    {
     "cell_type": "code",
     "collapsed": false,
     "input": [
      "#client.abort()"
     ],
     "language": "python",
     "metadata": {},
     "outputs": [],
     "prompt_number": 139
    },
    {
     "cell_type": "code",
     "collapsed": false,
     "input": [
      "lb_view.abort()"
     ],
     "language": "python",
     "metadata": {},
     "outputs": [],
     "prompt_number": 140
    },
    {
     "cell_type": "code",
     "collapsed": false,
     "input": [
      "import numpy as np\n",
      "from sklearn.datasets import fetch_covtype\n",
      "from sklearn.cross_validation import train_test_split\n",
      "covtype = fetch_covtype()"
     ],
     "language": "python",
     "metadata": {},
     "outputs": [],
     "prompt_number": 3
    },
    {
     "cell_type": "code",
     "collapsed": false,
     "input": [
      "X, y = covtype.data, covtype.target\n",
      "y[np.where(y != 1)] = -1  # Class #1 versus all others\n",
      "X_train, X_test, y_train, y_test = train_test_split(X, y, train_size=522911)"
     ],
     "language": "python",
     "metadata": {},
     "outputs": [],
     "prompt_number": 4
    },
    {
     "cell_type": "code",
     "collapsed": false,
     "input": [
      "from sklearn.preprocessing import StandardScaler\n",
      "scaler = StandardScaler()\n",
      "\n",
      "X_train = scaler.fit_transform(X_train)\n",
      "X_test = scaler.transform(X_test)"
     ],
     "language": "python",
     "metadata": {},
     "outputs": [],
     "prompt_number": 5
    },
    {
     "cell_type": "code",
     "collapsed": false,
     "input": [
      "from sklearn.linear_model import SGDClassifier\n",
      "\n",
      "%time SGDClassifier(alpha=0.001, n_iter=3).fit(X_train, y_train).score(X_test, y_test)"
     ],
     "language": "python",
     "metadata": {},
     "outputs": [
      {
       "output_type": "stream",
       "stream": "stdout",
       "text": [
        "CPU times: user 6.55 s, sys: 26.4 ms, total: 6.57 s\n",
        "Wall time: 6.58 s\n"
       ]
      },
      {
       "output_type": "pyout",
       "prompt_number": 17,
       "text": [
        "0.77060635789401211"
       ]
      }
     ],
     "prompt_number": 17
    },
    {
     "cell_type": "code",
     "collapsed": false,
     "input": [
      "from sklearn.kernel_approximation import Nystroem\n",
      "from sklearn.pipeline import Pipeline\n",
      "\n",
      "pipeline = Pipeline([\n",
      "    ('nystroem', Nystroem(n_components=200, gamma=0.01)),\n",
      "    ('clf', SGDClassifier(alpha=0.00001, n_iter=10)),\n",
      "])"
     ],
     "language": "python",
     "metadata": {},
     "outputs": [],
     "prompt_number": 28
    },
    {
     "cell_type": "code",
     "collapsed": false,
     "input": [
      "%time pipeline.fit(X_train, y_train).score(X_test, y_test)"
     ],
     "language": "python",
     "metadata": {},
     "outputs": [
      {
       "output_type": "stream",
       "stream": "stdout",
       "text": [
        "CPU times: user 16.4 s, sys: 1.28 s, total: 17.7 s\n",
        "Wall time: 15.1 s\n"
       ]
      },
      {
       "output_type": "pyout",
       "prompt_number": 29,
       "text": [
        "0.79408271802550734"
       ]
      }
     ],
     "prompt_number": 29
    },
    {
     "cell_type": "code",
     "collapsed": false,
     "input": [
      "X_scaled = StandardScaler().fit_transform(X)\n",
      "\n",
      "covertype_cv_split_filenames = mmap.persist_cv_splits('covertype_3', X_scaled, y, 3)\n",
      "covertype_cv_split_filenames"
     ],
     "language": "python",
     "metadata": {},
     "outputs": [
      {
       "output_type": "pyout",
       "prompt_number": 33,
       "text": [
        "['/Users/ogrisel/coding/parallel_ml_tutorial/solutions/covertype_3_cv_000.pkl',\n",
        " '/Users/ogrisel/coding/parallel_ml_tutorial/solutions/covertype_3_cv_001.pkl',\n",
        " '/Users/ogrisel/coding/parallel_ml_tutorial/solutions/covertype_3_cv_002.pkl']"
       ]
      }
     ],
     "prompt_number": 33
    },
    {
     "cell_type": "code",
     "collapsed": false,
     "input": [
      "from collections import OrderedDict\n",
      "pipeline_params = OrderedDict((\n",
      "#    ('nystroem__n_components', [50, 100, 200]),\n",
      "    ('nystroem__gamma', np.logspace(-3, 0, 5)),\n",
      "    ('clf__alpha', np.logspace(-5, -1, 4)),\n",
      "))"
     ],
     "language": "python",
     "metadata": {},
     "outputs": [],
     "prompt_number": 35
    },
    {
     "cell_type": "code",
     "collapsed": false,
     "input": [
      "search = model_selection.RandomizedGridSeach(lb_view)\n",
      "search.launch_for_splits(pipeline, pipeline_params, covertype_cv_split_filenames)"
     ],
     "language": "python",
     "metadata": {},
     "outputs": [
      {
       "output_type": "stream",
       "stream": "stderr",
       "text": [
        "/Users/ogrisel/coding/scikit-learn/sklearn/grid_search.py:112: DeprecationWarning: IterGrid was renamed to ParameterGrid and will be removed in 0.15.\n",
        "  \" removed in 0.15.\", DeprecationWarning)\n"
       ]
      },
      {
       "output_type": "pyout",
       "prompt_number": 48,
       "text": [
        "Progress: 00% (000/060)\n"
       ]
      }
     ],
     "prompt_number": 48
    },
    {
     "cell_type": "code",
     "collapsed": false,
     "input": [
      "print(search.report(n_top=10))"
     ],
     "language": "python",
     "metadata": {},
     "outputs": [
      {
       "output_type": "stream",
       "stream": "stdout",
       "text": [
        "Progress: 00% (000/060)\n",
        "\n"
       ]
      }
     ],
     "prompt_number": 53
    },
    {
     "cell_type": "code",
     "collapsed": false,
     "input": [
      "client.abort()"
     ],
     "language": "python",
     "metadata": {},
     "outputs": [],
     "prompt_number": 45
    },
    {
     "cell_type": "code",
     "collapsed": false,
     "input": [],
     "language": "python",
     "metadata": {},
     "outputs": []
    }
   ],
   "metadata": {}
  }
 ]
}