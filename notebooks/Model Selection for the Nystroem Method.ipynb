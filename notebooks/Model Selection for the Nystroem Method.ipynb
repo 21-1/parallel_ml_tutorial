{
 "metadata": {
  "name": "Model Selection for the Nystroem Method"
 },
 "nbformat": 3,
 "nbformat_minor": 0,
 "worksheets": [
  {
   "cells": [
    {
     "cell_type": "code",
     "collapsed": false,
     "input": [
      "import sys\n",
      "sys.path.append('..')\n",
      "%pylab inline\n",
      "import pylab as pl\n",
      "import numpy as np\n",
      "\n",
      "# Some nice default configuration for plots\n",
      "pl.rcParams['figure.figsize'] = 10, 7.5\n",
      "pl.rcParams['axes.grid'] = True\n",
      "pl.gray()"
     ],
     "language": "python",
     "metadata": {},
     "outputs": []
    },
    {
     "cell_type": "code",
     "collapsed": false,
     "input": [
      "from tutolib import mmap, model_selection\n",
      "_ = reload(mmap), reload(model_selection)"
     ],
     "language": "python",
     "metadata": {},
     "outputs": []
    },
    {
     "cell_type": "heading",
     "level": 2,
     "metadata": {},
     "source": [
      "Distributed Grid Search for a Linear Support Vector Machine"
     ]
    },
    {
     "cell_type": "code",
     "collapsed": false,
     "input": [
      "from sklearn.datasets import load_digits\n",
      "from sklearn.preprocessing import MinMaxScaler\n",
      "\n",
      "digits = load_digits()\n",
      "\n",
      "X = MinMaxScaler().fit_transform(digits.data)\n",
      "y = digits.target\n",
      "\n",
      "digits_cv_split_filenames = mmap.persist_cv_splits('digits_10', X, y, 10)\n",
      "digits_cv_split_filenames"
     ],
     "language": "python",
     "metadata": {},
     "outputs": []
    },
    {
     "cell_type": "code",
     "collapsed": false,
     "input": [
      "from IPython.parallel import Client\n",
      "client = Client()\n",
      "lb_view = client.load_balanced_view()"
     ],
     "language": "python",
     "metadata": {},
     "outputs": []
    },
    {
     "cell_type": "code",
     "collapsed": false,
     "input": [
      "mmap.warm_mmap_on_cv_splits(client, digits_cv_split_filenames)"
     ],
     "language": "python",
     "metadata": {},
     "outputs": []
    },
    {
     "cell_type": "code",
     "collapsed": false,
     "input": [
      "from sklearn.svm import LinearSVC\n",
      "from collections import OrderedDict\n",
      "import numpy as np\n",
      "\n",
      "linear_svc_params = OrderedDict((\n",
      "    ('C', np.logspace(-2, 2, 5)),\n",
      "))\n",
      "linear_svc = LinearSVC()"
     ],
     "language": "python",
     "metadata": {},
     "outputs": []
    },
    {
     "cell_type": "code",
     "collapsed": false,
     "input": [
      "linear_svc_search = model_selection.RandomizedGridSeach(lb_view)\n",
      "linear_svc_search.launch_for_splits(linear_svc, linear_svc_params, digits_cv_split_filenames)"
     ],
     "language": "python",
     "metadata": {},
     "outputs": []
    },
    {
     "cell_type": "code",
     "collapsed": false,
     "input": [
      "linear_svc_search"
     ],
     "language": "python",
     "metadata": {},
     "outputs": []
    },
    {
     "cell_type": "code",
     "collapsed": false,
     "input": [
      "linear_svc_search.boxplot_parameters()"
     ],
     "language": "python",
     "metadata": {},
     "outputs": []
    },
    {
     "cell_type": "heading",
     "level": 2,
     "metadata": {},
     "source": [
      "Scaling Non-Linear SVM: Kernel Approximations"
     ]
    },
    {
     "cell_type": "code",
     "collapsed": false,
     "input": [
      "from sklearn.kernel_approximation import Nystroem\n",
      "from sklearn.pipeline import Pipeline\n",
      "\n",
      "nystroem_pipeline = Pipeline([\n",
      "    ('nystroem', Nystroem()),\n",
      "    ('clf', LinearSVC()),\n",
      "])"
     ],
     "language": "python",
     "metadata": {},
     "outputs": []
    },
    {
     "cell_type": "code",
     "collapsed": false,
     "input": [
      "nystroem_pipeline_params = OrderedDict((\n",
      "    ('nystroem__n_components', [50, 100, 200]),\n",
      "    ('nystroem__gamma', np.logspace(-2, 2, 5)),\n",
      "    ('clf__C', np.logspace(-2, 2, 5)),\n",
      "))"
     ],
     "language": "python",
     "metadata": {},
     "outputs": []
    },
    {
     "cell_type": "code",
     "collapsed": false,
     "input": [
      "nystroem_search = model_selection.RandomizedGridSeach(lb_view)\n",
      "nystroem_search.launch_for_splits(nystroem_pipeline, pipeline_params, digits_cv_split_filenames)"
     ],
     "language": "python",
     "metadata": {},
     "outputs": []
    },
    {
     "cell_type": "code",
     "collapsed": false,
     "input": [
      "nystroem_search"
     ],
     "language": "python",
     "metadata": {},
     "outputs": []
    },
    {
     "cell_type": "code",
     "collapsed": false,
     "input": [
      "nystroem_search.boxplot_parameters()"
     ],
     "language": "python",
     "metadata": {},
     "outputs": []
    },
    {
     "cell_type": "code",
     "collapsed": false,
     "input": [
      "client.abort()"
     ],
     "language": "python",
     "metadata": {},
     "outputs": []
    },
    {
     "cell_type": "code",
     "collapsed": false,
     "input": [
      "import numpy as np\n",
      "from sklearn.datasets import fetch_covtype\n",
      "from sklearn.cross_validation import train_test_split\n",
      "covtype = fetch_covtype()"
     ],
     "language": "python",
     "metadata": {},
     "outputs": []
    },
    {
     "cell_type": "code",
     "collapsed": false,
     "input": [
      "X, y = covtype.data, covtype.target\n",
      "y[np.where(y != 1)] = -1  # Class #1 versus all others\n",
      "X_train, X_test, y_train, y_test = train_test_split(X, y, train_size=522911)"
     ],
     "language": "python",
     "metadata": {},
     "outputs": []
    },
    {
     "cell_type": "code",
     "collapsed": false,
     "input": [
      "from sklearn.preprocessing import StandardScaler\n",
      "scaler = StandardScaler()\n",
      "\n",
      "X_train = scaler.fit_transform(X_train)\n",
      "X_test = scaler.transform(X_test)"
     ],
     "language": "python",
     "metadata": {},
     "outputs": []
    },
    {
     "cell_type": "code",
     "collapsed": false,
     "input": [
      "from sklearn.linear_model import SGDClassifier\n",
      "\n",
      "%time SGDClassifier(alpha=0.001, n_iter=3).fit(X_train, y_train).score(X_test, y_test)"
     ],
     "language": "python",
     "metadata": {},
     "outputs": []
    },
    {
     "cell_type": "code",
     "collapsed": false,
     "input": [
      "from sklearn.kernel_approximation import Nystroem\n",
      "from sklearn.pipeline import Pipeline\n",
      "\n",
      "pipeline = Pipeline([\n",
      "    ('nystroem', Nystroem(n_components=200, gamma=0.01)),\n",
      "    ('clf', SGDClassifier(alpha=0.00001, n_iter=10)),\n",
      "])"
     ],
     "language": "python",
     "metadata": {},
     "outputs": []
    },
    {
     "cell_type": "code",
     "collapsed": false,
     "input": [
      "%time pipeline.fit(X_train, y_train).score(X_test, y_test)"
     ],
     "language": "python",
     "metadata": {},
     "outputs": []
    },
    {
     "cell_type": "code",
     "collapsed": false,
     "input": [
      "X_scaled = StandardScaler().fit_transform(X)\n",
      "\n",
      "covertype_cv_split_filenames = mmap.persist_cv_splits('covertype_3', X_scaled, y, 3)\n",
      "covertype_cv_split_filenames"
     ],
     "language": "python",
     "metadata": {},
     "outputs": []
    },
    {
     "cell_type": "code",
     "collapsed": false,
     "input": [
      "from collections import OrderedDict\n",
      "pipeline_params = OrderedDict((\n",
      "#    ('nystroem__n_components', [50, 100, 200]),\n",
      "    ('nystroem__gamma', np.logspace(-3, 0, 5)),\n",
      "    ('clf__alpha', np.logspace(-5, -1, 4)),\n",
      "))"
     ],
     "language": "python",
     "metadata": {},
     "outputs": []
    },
    {
     "cell_type": "code",
     "collapsed": false,
     "input": [
      "search = model_selection.RandomizedGridSeach(lb_view)\n",
      "search.launch_for_splits(pipeline, pipeline_params, covertype_cv_split_filenames)"
     ],
     "language": "python",
     "metadata": {},
     "outputs": []
    },
    {
     "cell_type": "code",
     "collapsed": false,
     "input": [
      "print(search.report(n_top=10))"
     ],
     "language": "python",
     "metadata": {},
     "outputs": []
    },
    {
     "cell_type": "code",
     "collapsed": false,
     "input": [
      "client.abort()"
     ],
     "language": "python",
     "metadata": {},
     "outputs": []
    },
    {
     "cell_type": "code",
     "collapsed": false,
     "input": [],
     "language": "python",
     "metadata": {},
     "outputs": []
    }
   ],
   "metadata": {}
  }
 ]
}