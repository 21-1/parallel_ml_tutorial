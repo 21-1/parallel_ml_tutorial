{
 "metadata": {
  "name": "04 - Large Scale Text Classification for Sentiment Analysis"
 },
 "nbformat": 3,
 "nbformat_minor": 0,
 "worksheets": [
  {
   "cells": [
    {
     "cell_type": "code",
     "collapsed": false,
     "input": [
      "%pylab inline\n",
      "import pylab as pl\n",
      "import numpy as np\n",
      "\n",
      "# Some nice default configuration for plots\n",
      "pl.rcParams['figure.figsize'] = 10, 7.5\n",
      "pl.rcParams['axes.grid'] = True"
     ],
     "language": "python",
     "metadata": {},
     "outputs": []
    },
    {
     "cell_type": "heading",
     "level": 1,
     "metadata": {},
     "source": [
      "Large Scale Text Classification for Sentiment Analysis"
     ]
    },
    {
     "cell_type": "heading",
     "level": 2,
     "metadata": {},
     "source": [
      "Outline of the Session"
     ]
    },
    {
     "cell_type": "markdown",
     "metadata": {},
     "source": [
      "- Limitations of the Vocabulary-Based Vectorizer\n",
      "- The **Hashing Trick**\n",
      "- **Online / Streaming** Text Feature Extraction and Classification\n",
      "- **Parallel** Text Feature Extraction and Classification"
     ]
    },
    {
     "cell_type": "heading",
     "level": 2,
     "metadata": {},
     "source": [
      "Scalability Issues"
     ]
    },
    {
     "cell_type": "markdown",
     "metadata": {},
     "source": [
      "The `sklearn.feature_extraction.text.CountVectorizer` and `sklearn.feature_extraction.text.TfidfVectorizer` classes suffer from a number of scalability issues that all stem from the internal usage of the `vocabulary_` attribute (a Python dictionary) used to map the unicode string feature names to the integer feature indices.\n",
      "\n",
      "The main scalability issues are:\n",
      "\n",
      "- **Memory usage of the text vectorizer**: the all the string representations of the features are loaded in memory\n",
      "- **Parallelization problems for text feature extraction**: the `vocabulary_` would be a shared state: complex synchronization and overhead\n",
      "- **Impossibility to do online or out-of-core / streaming learning**: the `vocabulary_` needs to be learned from the data: its size cannot be known before making one pass over the full dataset\n",
      "    \n",
      "    \n",
      "To better understand the issue let's have a look at how the `vocabulary_` attribute work. At `fit` time the tokens of the corpus are uniquely indentified by a integer index and this mapping stored in the vocabulary:"
     ]
    },
    {
     "cell_type": "code",
     "collapsed": false,
     "input": [
      "from sklearn.feature_extraction.text import CountVectorizer\n",
      "\n",
      "vectorizer = CountVectorizer()\n",
      "\n",
      "vectorizer.fit([\n",
      "    \"The cat sat on the mat.\",\n",
      "])\n",
      "vectorizer.vocabulary_"
     ],
     "language": "python",
     "metadata": {},
     "outputs": []
    },
    {
     "cell_type": "markdown",
     "metadata": {},
     "source": [
      "The vocabulary is used at `transform` time to build the occurence matrix:"
     ]
    },
    {
     "cell_type": "code",
     "collapsed": false,
     "input": [
      "X = vectorizer.transform([\n",
      "    \"The cat sat on the mat.\",\n",
      "    \"This cat is a nice cat.\",\n",
      "]).toarray()\n",
      "\n",
      "print(len(vectorizer.vocabulary_))\n",
      "print(vectorizer.get_feature_names())\n",
      "print(X)"
     ],
     "language": "python",
     "metadata": {},
     "outputs": []
    },
    {
     "cell_type": "markdown",
     "metadata": {},
     "source": [
      "Let's refit with a slightly larger corpus:"
     ]
    },
    {
     "cell_type": "code",
     "collapsed": false,
     "input": [
      "vectorizer = CountVectorizer()\n",
      "\n",
      "vectorizer.fit([\n",
      "    \"The cat sat on the mat.\",\n",
      "    \"The quick brown fox jumps over the lazy dog.\",\n",
      "])\n",
      "vectorizer.vocabulary_"
     ],
     "language": "python",
     "metadata": {},
     "outputs": []
    },
    {
     "cell_type": "markdown",
     "metadata": {},
     "source": [
      "The `vocabulary_` is the (logarithmically) growing with the size of the training corpus. Note that we could not have built the vocabularies in parallel on the 2 text documents as they share some words hence would require some kind of shared datastructure or synchronization barrier which is complicated to setup, especially if we want to distribute the processing on a cluster.\n",
      "\n",
      "With this new vocabulary, the dimensionality of the output space is now larger:"
     ]
    },
    {
     "cell_type": "code",
     "collapsed": false,
     "input": [
      "X = vectorizer.transform([\n",
      "    \"The cat sat on the mat.\",\n",
      "    \"This cat is a nice cat.\",\n",
      "]).toarray()\n",
      "\n",
      "print(len(vectorizer.vocabulary_))\n",
      "print(vectorizer.get_feature_names())\n",
      "print(X)"
     ],
     "language": "python",
     "metadata": {},
     "outputs": []
    },
    {
     "cell_type": "heading",
     "level": 2,
     "metadata": {},
     "source": [
      "The Sentiment 140 Dataset"
     ]
    },
    {
     "cell_type": "markdown",
     "metadata": {},
     "source": [
      "To illustrate the scalabitiy issues of the vocabulary-based vectorizers, let's load a more reallistic dataset for a classical text classification task: sentiment analysis on tweets. The goald is to tell appart negative from positive tweets on a variety of topics.\n",
      "\n",
      "Assuming that the `../fetch_data.py` script was run successfully the following files should be available:"
     ]
    },
    {
     "cell_type": "code",
     "collapsed": false,
     "input": [
      "import os\n",
      "\n",
      "sentiment140_folder = os.path.join('..', 'datasets', 'sentiment140')\n",
      "training_csv_file = os.path.join(sentiment140_folder, 'training.1600000.processed.noemoticon.csv')\n",
      "testing_csv_file = os.path.join(sentiment140_folder, 'testdata.manual.2009.06.14.csv')"
     ],
     "language": "python",
     "metadata": {},
     "outputs": []
    },
    {
     "cell_type": "markdown",
     "metadata": {},
     "source": [
      "Those files were downloaded from the research archive of the http://www.sentiment140.com/ project. The first file was gathered by issues various queries on various keywords (e.g. production names such as the \"kindle2\"). For each topic the \":)\" and negative \":(\" emoticon where appended to collect both explicitly positive and negative. To make classification problem non-trivial, the emoticons were stripped out of the text in the CSV files:"
     ]
    },
    {
     "cell_type": "code",
     "collapsed": false,
     "input": [
      "ls -lh ../datasets/sentiment140/training.1600000.processed.noemoticon.csv"
     ],
     "language": "python",
     "metadata": {},
     "outputs": []
    },
    {
     "cell_type": "markdown",
     "metadata": {},
     "source": [
      "Let's parse the CSV files and load everything in memory:"
     ]
    },
    {
     "cell_type": "code",
     "collapsed": false,
     "input": [
      "%%time\n",
      "\n",
      "import csv\n",
      "fieldnames = ('polarity', 'id', 'date', 'query', 'author', 'text')\n",
      "\n",
      "with open(training_csv_file, 'rb') as f:\n",
      "    train_dicts = list(csv.DictReader(f, fieldnames=fieldnames, delimiter=',', quotechar='\"'))"
     ],
     "language": "python",
     "metadata": {},
     "outputs": []
    },
    {
     "cell_type": "code",
     "collapsed": false,
     "input": [
      "len(train_dicts)"
     ],
     "language": "python",
     "metadata": {},
     "outputs": []
    },
    {
     "cell_type": "markdown",
     "metadata": {},
     "source": [
      "Let's display the first samples:"
     ]
    },
    {
     "cell_type": "code",
     "collapsed": false,
     "input": [
      "train_dicts[:3]"
     ],
     "language": "python",
     "metadata": {},
     "outputs": []
    },
    {
     "cell_type": "markdown",
     "metadata": {},
     "source": [
      "A polarity of \"0\" means negative while a polarity of \"4\" means positive."
     ]
    },
    {
     "cell_type": "markdown",
     "metadata": {},
     "source": [
      "Let's extract the positive and negative texts and ignore the neutral for now:"
     ]
    },
    {
     "cell_type": "code",
     "collapsed": false,
     "input": [
      "%%time\n",
      "\n",
      "text_train_positive = [d['text'] for d in train_dicts if d['polarity'] == '4']\n",
      "text_train_negative = [d['text'] for d in train_dicts if d['polarity'] == '0']"
     ],
     "language": "python",
     "metadata": {},
     "outputs": []
    },
    {
     "cell_type": "code",
     "collapsed": false,
     "input": [
      "len(text_train_positive), len(text_train_negative)"
     ],
     "language": "python",
     "metadata": {},
     "outputs": []
    },
    {
     "cell_type": "code",
     "collapsed": false,
     "input": [
      "text_train_all = text_train_positive + text_train_negative\n",
      "target_train_all = [1] * len(text_train_positive) + [-1] * len(text_train_negative)"
     ],
     "language": "python",
     "metadata": {},
     "outputs": []
    },
    {
     "cell_type": "markdown",
     "metadata": {},
     "source": [
      "Let's split the training CSV file into a smaller training set and a validation set with 100k random tweets each:"
     ]
    },
    {
     "cell_type": "code",
     "collapsed": false,
     "input": [
      "%%time\n",
      "\n",
      "from sklearn.cross_validation import train_test_split\n",
      "\n",
      "text_train_small, text_validation, target_train_small, target_validation = train_test_split(\n",
      "    text_train_all, target_train_all,\n",
      "    train_size=100000, test_size=100000, random_state=42)"
     ],
     "language": "python",
     "metadata": {},
     "outputs": []
    },
    {
     "cell_type": "markdown",
     "metadata": {},
     "source": [
      "Let's open the manuall annotated tweet files:"
     ]
    },
    {
     "cell_type": "code",
     "collapsed": false,
     "input": [
      "with open(testing_csv_file, 'rb') as f:\n",
      "    test_dicts = list(csv.DictReader(f, fieldnames=fieldnames, delimiter=',', quotechar='\"'))"
     ],
     "language": "python",
     "metadata": {},
     "outputs": []
    },
    {
     "cell_type": "code",
     "collapsed": false,
     "input": [
      "len(test_dicts)"
     ],
     "language": "python",
     "metadata": {},
     "outputs": []
    },
    {
     "cell_type": "code",
     "collapsed": false,
     "input": [
      "test_dicts[:3]"
     ],
     "language": "python",
     "metadata": {},
     "outputs": []
    },
    {
     "cell_type": "code",
     "collapsed": false,
     "input": [
      "text_test_positive = [d['text'] for d in test_dicts if d['polarity'] == '4']\n",
      "text_test_negative = [d['text'] for d in test_dicts if d['polarity'] == '0']\n",
      "\n",
      "len(text_test_positive), len(text_test_negative)"
     ],
     "language": "python",
     "metadata": {},
     "outputs": []
    },
    {
     "cell_type": "markdown",
     "metadata": {},
     "source": [
      "The evaluation set also has neutral tweets with a polarity of \"2\" which we ignore. We can build the final evaluation set with only the positive and negative tweets of the evaluation CSV file:"
     ]
    },
    {
     "cell_type": "code",
     "collapsed": false,
     "input": [
      "text_test_all = text_test_positive + text_test_negative\n",
      "target_test_all = [1] * len(text_test_positive) + [-1] * len(text_test_negative)"
     ],
     "language": "python",
     "metadata": {},
     "outputs": []
    },
    {
     "cell_type": "heading",
     "level": 2,
     "metadata": {},
     "source": [
      "The Hashing Trick"
     ]
    },
    {
     "cell_type": "markdown",
     "metadata": {},
     "source": [
      "To workaround the limitations of the vocabulary-based vectorizers, one can use the hashing trick. Instead of building and storing an explicit mapping from the feature names to the feature indices in a Python dict, we can just use a hash function and a modulus operation:"
     ]
    },
    {
     "cell_type": "code",
     "collapsed": false,
     "input": [
      "from sklearn.utils.murmurhash import murmurhash3_bytes_u32\n",
      "\n",
      "for word in \"the cat sat on the mat\".split():\n",
      "    print(\"{0} => {1}\".format(\n",
      "        word, murmurhash3_bytes_u32(word, 0) % 2 ** 20))"
     ],
     "language": "python",
     "metadata": {},
     "outputs": []
    },
    {
     "cell_type": "markdown",
     "metadata": {},
     "source": [
      "This mapping is completly stateless and the dimensionality of the output space is explicitly fixed in advance (here we use a modulo `2 ** 20` which means roughly 1M dimensions). The makes it possible to workaround the limitations of the vocabulary based vectorizer both for parallelizability and online / out-of-core learning."
     ]
    },
    {
     "cell_type": "markdown",
     "metadata": {},
     "source": [
      "The `HashingVectorizer` class is an alternative to the `TfidfVectorizer` class with `use_idf=False` that internally uses the murmurhash hash function:"
     ]
    },
    {
     "cell_type": "code",
     "collapsed": false,
     "input": [
      "from sklearn.feature_extraction.text import HashingVectorizer\n",
      "\n",
      "h_vectorizer = HashingVectorizer(charset='latin-1')\n",
      "h_vectorizer"
     ],
     "language": "python",
     "metadata": {},
     "outputs": []
    },
    {
     "cell_type": "markdown",
     "metadata": {},
     "source": [
      "It shares the same \"preprocessor\", \"tokenizer\" and \"analyzer\" infrastructure:"
     ]
    },
    {
     "cell_type": "code",
     "collapsed": false,
     "input": [
      "analyzer = h_vectorizer.build_analyzer()\n",
      "analyzer('This is a test sentence.')"
     ],
     "language": "python",
     "metadata": {},
     "outputs": []
    },
    {
     "cell_type": "markdown",
     "metadata": {},
     "source": [
      "We can vectorize our datasets into a scipy sparse matrix exactly as we would have done with the `CountVectorizer` or `TfidfVectorizer`, except that we can directly call the `transform` method: there is no need to `fit` as `HashingVectorizer` is a stateless transformer:"
     ]
    },
    {
     "cell_type": "code",
     "collapsed": false,
     "input": [
      "%time X_train_small = h_vectorizer.transform(text_train_small)"
     ],
     "language": "python",
     "metadata": {},
     "outputs": []
    },
    {
     "cell_type": "markdown",
     "metadata": {},
     "source": [
      "The dimension of the output is fixed ahead of time to `n_features=2 ** 20` by default (nearly 1M features) to minimize the rate of collision on most classification problem while having reasonably sized linear models (1M weights in the `coef_` attribute):"
     ]
    },
    {
     "cell_type": "code",
     "collapsed": false,
     "input": [
      "X_train_small"
     ],
     "language": "python",
     "metadata": {},
     "outputs": []
    },
    {
     "cell_type": "markdown",
     "metadata": {},
     "source": [
      "As only the non-zero elements are stored, `n_features` has little impact on the actual size of the data in memory. We can combine the hashing vectorizer with a Passive-Aggressive linear model in a pipeline:"
     ]
    },
    {
     "cell_type": "code",
     "collapsed": false,
     "input": [
      "from sklearn.linear_model import PassiveAggressiveClassifier\n",
      "from sklearn.pipeline import Pipeline\n",
      "\n",
      "h_pipeline = Pipeline((\n",
      "    ('vec', HashingVectorizer(charset='latin-1')),\n",
      "    ('clf', PassiveAggressiveClassifier(C=1, n_iter=1)),\n",
      "))\n",
      "\n",
      "%time h_pipeline.fit(text_train_small, target_train_small).score(text_validation, target_validation)"
     ],
     "language": "python",
     "metadata": {},
     "outputs": []
    },
    {
     "cell_type": "markdown",
     "metadata": {},
     "source": [
      "Let's check that the score on the validation set is reasonably in line with the set of manually annotated tweets:"
     ]
    },
    {
     "cell_type": "code",
     "collapsed": false,
     "input": [
      "h_pipeline.score(text_test_all, target_test_all)"
     ],
     "language": "python",
     "metadata": {},
     "outputs": []
    },
    {
     "cell_type": "markdown",
     "metadata": {},
     "source": [
      "As the `text_train_small` dataset is not that big we can still use a vocabulary based to check that the hashing collisions are not causing any significative performance drop on the validation set:"
     ]
    },
    {
     "cell_type": "code",
     "collapsed": false,
     "input": [
      "from sklearn.feature_extraction.text import TfidfVectorizer\n",
      "\n",
      "vocabulary_vec = TfidfVectorizer(charset='latin-1', use_idf=False)\n",
      "vocabulary_pipeline = Pipeline((\n",
      "    ('vec', vocabulary_vec),\n",
      "    ('clf', PassiveAggressiveClassifier(C=1, n_iter=1)),\n",
      "))\n",
      "\n",
      "%time vocabulary_pipeline.fit(text_train_small, target_train_small).score(text_validation, target_validation)"
     ],
     "language": "python",
     "metadata": {},
     "outputs": []
    },
    {
     "cell_type": "markdown",
     "metadata": {},
     "source": [
      "We get almost the same score but almost twice as slower with also a big, slow to (un)pickle datastructure in memory:"
     ]
    },
    {
     "cell_type": "code",
     "collapsed": false,
     "input": [
      "len(vocabulary_vec.vocabulary_)"
     ],
     "language": "python",
     "metadata": {},
     "outputs": []
    },
    {
     "cell_type": "markdown",
     "metadata": {},
     "source": [
      "More info and reference for the original papers on the Hashing Trick in the answers to this http://metaoptimize.com/qa question: [What is the Hashing Trick?](http://metaoptimize.com/qa/questions/6943/what-is-the-hashing-trick)."
     ]
    },
    {
     "cell_type": "heading",
     "level": 2,
     "metadata": {},
     "source": [
      "Out-of-Core learning"
     ]
    },
    {
     "cell_type": "markdown",
     "metadata": {},
     "source": [
      "Out-of-Core learning is the task of training a machine learning model on a dataset that does not fit in the main memory. This requires the following conditions:\n",
      "    \n",
      "- a **feature extraction** layer with **fixed output dimensionality**\n",
      "- knowing the list of all classes in advance (in this case we only have positive and negative tweets)\n",
      "- a machine learning **algorithm that supports incremental learning** (the `partial_fit` method in scikit-learn).\n",
      "\n",
      "Let us simulate an infinite tweeter stream that can generate batches of annotated tweet texts and there polarity. We can do this by recombining randomly pairs of positive or negative tweets from our fixed dataset:"
     ]
    },
    {
     "cell_type": "code",
     "collapsed": false,
     "input": [
      "from random import Random\n",
      "\n",
      "\n",
      "class InfiniteStreamGenerator(object):\n",
      "    \"\"\"Simulate random polarity queries on the twitter streaming API\"\"\"\n",
      "    \n",
      "    def __init__(self, texts, targets, seed=0, batchsize=100):\n",
      "        self.texts_pos = [text for text, target in zip(texts, targets)\n",
      "                               if target > 0]\n",
      "        self.texts_neg = [text for text, target in zip(texts, targets)\n",
      "                               if target <= 0]\n",
      "        self.rng = Random(seed)\n",
      "        self.batchsize = batchsize\n",
      "\n",
      "    def next_batch(self, batchsize=None):\n",
      "        batchsize = self.batchsize if batchsize is None else batchsize\n",
      "        texts, targets = [], []\n",
      "        for i in range(batchsize):\n",
      "            # Select the polarity randomly\n",
      "            target = self.rng.choice((-1, 1))\n",
      "            targets.append(target)\n",
      "            \n",
      "            # Combine 2 random texts of the right polarity\n",
      "            pool = self.texts_pos if target > 0 else self.texts_neg\n",
      "            text = self.rng.choice(pool) + \" \" + self.rng.choice(pool)\n",
      "            texts.append(text)\n",
      "        return texts, targets\n",
      "\n",
      "infinite_stream = InfiniteStreamGenerator(text_train_small, target_train_small)"
     ],
     "language": "python",
     "metadata": {},
     "outputs": []
    },
    {
     "cell_type": "code",
     "collapsed": false,
     "input": [
      "texts_in_batch, targets_in_batch = infinite_stream.next_batch(batchsize=3)"
     ],
     "language": "python",
     "metadata": {},
     "outputs": []
    },
    {
     "cell_type": "code",
     "collapsed": false,
     "input": [
      "texts_in_batch"
     ],
     "language": "python",
     "metadata": {},
     "outputs": []
    },
    {
     "cell_type": "code",
     "collapsed": false,
     "input": [
      "targets_in_batch"
     ],
     "language": "python",
     "metadata": {},
     "outputs": []
    },
    {
     "cell_type": "markdown",
     "metadata": {},
     "source": [
      "We can now use our infinte tweet source to train an online machine learning algorithm using the hashing vectorizer. Note the use of the `partial_fit` method of the `PassiveAggressiveClassifier` instance in place of the traditional call to the `fit` method that needs access to the full training set.\n",
      "\n",
      "From time to time, we evaluate the current predictive performance of the model on our validation set that is guaranteed to not overlap with the infinite training set source:"
     ]
    },
    {
     "cell_type": "code",
     "collapsed": false,
     "input": [
      "n_batches = 1000\n",
      "validation_scores = []\n",
      "training_set_size = []\n",
      "\n",
      "# Build the vectorizer and the classifier\n",
      "h_vectorizer = HashingVectorizer(charset='latin-1', ngram_range=(1, 2))\n",
      "clf = PassiveAggressiveClassifier(C=1)\n",
      "\n",
      "# Extract the features for the validation once and for all\n",
      "X_validation = h_vectorizer.transform(text_validation)\n",
      "classes = np.array([-1, 1])\n",
      "\n",
      "n_samples = 0\n",
      "for i in range(n_batches):\n",
      "    \n",
      "    texts_in_batch, targets_in_batch = infinite_stream.next_batch()    \n",
      "    n_samples += len(texts_in_batch)\n",
      "\n",
      "    # Vectorize the text documents in the batch\n",
      "    X_batch = h_vectorizer.transform(texts_in_batch)\n",
      "    \n",
      "    # Incrementally train the model on the new batch\n",
      "    clf.partial_fit(X_batch, targets_in_batch, classes=classes)\n",
      "    \n",
      "    if n_samples % 100 == 0:\n",
      "        # Compute the validation score of the current state of the model\n",
      "        score = clf.score(X_validation, target_validation)\n",
      "        validation_scores.append(score)\n",
      "        training_set_size.append(n_samples)\n",
      "\n",
      "    if i % 100 == 0:\n",
      "        print(\"n_samples: {0}, score: {1:.4f}\".format(n_samples, score))"
     ],
     "language": "python",
     "metadata": {},
     "outputs": []
    },
    {
     "cell_type": "markdown",
     "metadata": {},
     "source": [
      "We can now plot the collected validation score values, versus the number of samples generated by the infinite source and feed to the model:"
     ]
    },
    {
     "cell_type": "code",
     "collapsed": false,
     "input": [
      "pl.plot(training_set_size, validation_scores)\n",
      "pl.xlabel(\"Number of samples\")\n",
      "pl.ylabel(\"Validation score\")"
     ],
     "language": "python",
     "metadata": {},
     "outputs": []
    },
    {
     "cell_type": "heading",
     "level": 2,
     "metadata": {},
     "source": [
      "Parallelizing Text Classification"
     ]
    },
    {
     "cell_type": "code",
     "collapsed": false,
     "input": [
      "# TODO"
     ],
     "language": "python",
     "metadata": {},
     "outputs": []
    }
   ],
   "metadata": {}
  }
 ]
}