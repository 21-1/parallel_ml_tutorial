{
 "metadata": {
  "name": "Model selection and evaluation"
 },
 "nbformat": 3,
 "nbformat_minor": 0,
 "worksheets": [
  {
   "cells": [
    {
     "cell_type": "heading",
     "level": 1,
     "metadata": {},
     "source": [
      "Model selection and evaluation"
     ]
    },
    {
     "cell_type": "markdown",
     "metadata": {},
     "source": [
      "Outline of the session:\n",
      "\n",
      "- Model evaluation without overfitting with Cross-Validation\n",
      "- Hyper parameter tuning and model selection with Grid Search\n",
      "- Error analysis with learning curves and the Bias-Variance trade-off"
     ]
    },
    {
     "cell_type": "code",
     "collapsed": false,
     "input": [
      "%pylab inline\n",
      "import pylab as pl\n",
      "import numpy as np\n",
      "pl.gray()"
     ],
     "language": "python",
     "metadata": {},
     "outputs": [
      {
       "output_type": "stream",
       "stream": "stdout",
       "text": [
        "\n",
        "Welcome to pylab, a matplotlib-based Python environment [backend: module://IPython.zmq.pylab.backend_inline].\n",
        "For more information, type 'help(pylab)'.\n"
       ]
      },
      {
       "output_type": "display_data",
       "text": [
        "<matplotlib.figure.Figure at 0x1070d0750>"
       ]
      }
     ],
     "prompt_number": 1
    },
    {
     "cell_type": "heading",
     "level": 2,
     "metadata": {},
     "source": [
      "Overfitting"
     ]
    },
    {
     "cell_type": "markdown",
     "metadata": {},
     "source": [
      "Overfitting is the problem of learning the training data by heart and being unable to generalize by making correct predictions on new data.\n",
      "\n",
      "Let's load a simple dataset of 8x8 gray level images of handwritten digits:"
     ]
    },
    {
     "cell_type": "code",
     "collapsed": false,
     "input": [
      "from sklearn.datasets import load_digits\n",
      "digits = load_digits()\n",
      "X, y = digits.data, digits.target\n",
      "print(\"data shape: %r, target shape: %r\" % (X.shape, y.shape))\n",
      "print(\"classes: %r\" % list(np.unique(y)))"
     ],
     "language": "python",
     "metadata": {},
     "outputs": [
      {
       "output_type": "stream",
       "stream": "stdout",
       "text": [
        "data shape: (1797, 64), target shape: (1797,)\n",
        "classes: [0, 1, 2, 3, 4, 5, 6, 7, 8, 9]\n"
       ]
      }
     ],
     "prompt_number": 2
    },
    {
     "cell_type": "code",
     "collapsed": false,
     "input": [
      "n_samples, n_features = X.shape\n",
      "print(\"n_samples=%d\" % n_samples)\n",
      "print(\"n_features=%d\" % n_features)"
     ],
     "language": "python",
     "metadata": {},
     "outputs": [
      {
       "output_type": "stream",
       "stream": "stdout",
       "text": [
        "n_samples=1797\n",
        "n_features=64\n"
       ]
      }
     ],
     "prompt_number": 3
    },
    {
     "cell_type": "code",
     "collapsed": false,
     "input": [
      "pl.figure()\n",
      "pl.imshow(X[0].reshape((8, 8)), interpolation='nearest')\n",
      "print(\"Target class: %d\" % y[0])"
     ],
     "language": "python",
     "metadata": {},
     "outputs": [
      {
       "output_type": "stream",
       "stream": "stdout",
       "text": [
        "Target class: 0\n"
       ]
      },
      {
       "output_type": "display_data",
       "png": "[encoded data removed]",
       "text": [
        "<matplotlib.figure.Figure at 0x106663c90>"
       ]
      }
     ],
     "prompt_number": 4
    },
    {
     "cell_type": "markdown",
     "metadata": {},
     "source": [
      "Now let's"
     ]
    },
    {
     "cell_type": "code",
     "collapsed": false,
     "input": [
      "from sklearn.svm import SVC\n",
      "SVC().fit(X, y).score(X, y)"
     ],
     "language": "python",
     "metadata": {},
     "outputs": [
      {
       "output_type": "pyout",
       "prompt_number": 5,
       "text": [
        "1.0"
       ]
      }
     ],
     "prompt_number": 5
    },
    {
     "cell_type": "markdown",
     "metadata": {},
     "source": [
      "Did we really learn a perfect model that can recognize the correct digit class 100% of the time? **Without new data it's impossible to tell.**\n",
      "\n",
      "Let's start again and split the dataset into two random, non overlapping subsets:"
     ]
    },
    {
     "cell_type": "code",
     "collapsed": false,
     "input": [
      "from sklearn.cross_validation import train_test_split\n",
      "X_train, X_test, y_train, y_test = train_test_split(X, y, test_size=0.25)\n",
      "print(\"train data shape: %r, train target shape: %r\" % (X_train.shape, y_train.shape))\n",
      "print(\"test data shape: %r, test target shape: %r\" % (X_test.shape, y_test.shape))"
     ],
     "language": "python",
     "metadata": {},
     "outputs": [
      {
       "output_type": "stream",
       "stream": "stdout",
       "text": [
        "train data shape: (1347, 64), train target shape: (1347,)\n",
        "test data shape: (450, 64), test target shape: (450,)\n"
       ]
      }
     ],
     "prompt_number": 6
    },
    {
     "cell_type": "markdown",
     "metadata": {},
     "source": [
      "Let's retrain a new model on the first subset call the **training set**:"
     ]
    },
    {
     "cell_type": "code",
     "collapsed": false,
     "input": [
      "svc = SVC(kernel='rbf').fit(X_train, y_train)\n",
      "train_score = svc.score(X_train, y_train) \n",
      "train_score"
     ],
     "language": "python",
     "metadata": {},
     "outputs": [
      {
       "output_type": "pyout",
       "prompt_number": 7,
       "text": [
        "1.0"
       ]
      }
     ],
     "prompt_number": 7
    },
    {
     "cell_type": "markdown",
     "metadata": {},
     "source": [
      "We can now compute the performance of the model on new, held out data from the **test set**:"
     ]
    },
    {
     "cell_type": "code",
     "collapsed": false,
     "input": [
      "test_score = svc.score(X_test, y_test)\n",
      "test_score"
     ],
     "language": "python",
     "metadata": {},
     "outputs": [
      {
       "output_type": "pyout",
       "prompt_number": 8,
       "text": [
        "0.41333333333333333"
       ]
      }
     ],
     "prompt_number": 8
    },
    {
     "cell_type": "markdown",
     "metadata": {},
     "source": [
      "This score is clearly not as good as expected! The model cannot generalize so well to new, unseen data.\n",
      "\n",
      "- Whenever the **test** data score is **not as good as** the **train** score the model is **overfitting**\n",
      "\n",
      "- Whenever the **train score is not close to 100%** accuracy the model is **underfitting**\n",
      "\n",
      "Ideally **we want to neither overfit nor underfit**: `test_score ~= train_score ~= 1.0`. "
     ]
    },
    {
     "cell_type": "heading",
     "level": 2,
     "metadata": {},
     "source": [
      "Cross Validation"
     ]
    },
    {
     "cell_type": "markdown",
     "metadata": {},
     "source": [
      "- TODO: n_jobs cross validation\n",
      "- TODO: std of test error"
     ]
    },
    {
     "cell_type": "code",
     "collapsed": false,
     "input": [
      "from sklearn.cross_validation import ShuffleSplit\n",
      "\n",
      "cv = ShuffleSplit(n_samples, n_iter=3, test_size=0.1)\n",
      "for train, test in cv:\n",
      "    print(\"train indices: {0}...\".format(train[:10]))\n",
      "    print(\"test indices: {0}...\".format(test[:10]))"
     ],
     "language": "python",
     "metadata": {},
     "outputs": [
      {
       "output_type": "stream",
       "stream": "stdout",
       "text": [
        "train indices: [1489 1511 1364 1752  911 1017 1551 1467 1114 1372]...\n",
        "test indices: [ 208  546  186  615  377 1664 1051  978  109 1062]...\n",
        "train indices: [ 599  162  155 1639  809  855  552 1157  939 1017]...\n",
        "test indices: [ 907  953  959 1269  475 1423  229  306  849   39]...\n",
        "train indices: [1767  156  172  610 1729  802  420 1386   21 1305]...\n",
        "test indices: [ 629  102 1573  472  666  870  682  166  591  559]...\n"
       ]
      }
     ],
     "prompt_number": 9
    },
    {
     "cell_type": "code",
     "collapsed": false,
     "input": [
      "from sklearn.cross_validation import cross_val_score\n",
      "# TODO"
     ],
     "language": "python",
     "metadata": {},
     "outputs": [],
     "prompt_number": 10
    },
    {
     "cell_type": "code",
     "collapsed": false,
     "input": [
      "def mean_with_ci(scores):\n",
      "    \"\"\"Compute the mean score and standard 95% Confidence Interval\n",
      "\n",
      "    Assume that the distribution of the scores is normal which\n",
      "    is probably not true when the mean is close to an upper or\n",
      "    lower bound.\n",
      "\n",
      "    For better CI evaluation, use scikits.bootstrap.\n",
      "    \"\"\"\n",
      "    scores = np.asarray(scores).ravel()\n",
      "    m, s = np.mean(scores), np.std(scores)\n",
      "    std_error = s / np.sqrt(scores.shape[0])\n",
      "    ci_width = 2 * 1.96 * std_error\n",
      "    return m, ci_width\n",
      "\n",
      "def mean_score(scores):\n",
      "    \"\"\"Print the mean score and standard 95% Confidence Interval\"\"\"\n",
      "    m, ci_width = mean_with_ci(scores)\n",
      "    return (\"Mean score: {0:.3f} [{1:.3f} - {2:.3f}]\").format(\n",
      "        m, m - ci_width / 2, m + ci_width / 2)"
     ],
     "language": "python",
     "metadata": {},
     "outputs": [],
     "prompt_number": 11
    },
    {
     "cell_type": "markdown",
     "metadata": {},
     "source": [
      "**Exercise:** \n",
      "\n",
      "- Perform 50 iterations of cross validation with randomly sampled folds of 500 training samples and 500 test samples randomly sampled (use `sklearn.cross_validation.ShuffleSplit`).\n",
      "- Try with `SVC(C=1, gamma=0.01)`\n",
      "- Plot the histogram of the test error with 50 bins.\n",
      "- Try to increas the training size\n",
      "- Retry with `SVC(C=10, gamma=0.005)`, then `SVC(C=10, gamma=0.001)` with 500 samples.\n",
      "\n",
      "Hints, type:\n",
      "\n",
      "    from sklearn.cross_validation import ShuffleSplit\n",
      "    ShuffleSplit?  # to read the docstring of the shuffle split\n",
      "    pl.hist?  # to read the docstring of the histogram plot\n"
     ]
    },
    {
     "cell_type": "code",
     "collapsed": false,
     "input": [
      "cv = ShuffleSplit(n_samples, n_iter=50, train_size=500, test_size=500)\n",
      "%time scores = cross_val_score(SVC(C=10, gamma=0.005), X, y, cv=cv)\n",
      "_ = pl.hist(scores, range=(0, 1), bins=50)\n",
      "print(mean_score(scores))"
     ],
     "language": "python",
     "metadata": {},
     "outputs": [
      {
       "output_type": "stream",
       "stream": "stdout",
       "text": [
        "CPU times: user 5.29 s, sys: 0.01 s, total: 5.30 s\n",
        "Wall time: 5.38 s\n",
        "Mean score: 0.896 [0.887 - 0.904]"
       ]
      },
      {
       "output_type": "stream",
       "stream": "stdout",
       "text": [
        "\n"
       ]
      },
      {
       "output_type": "display_data",
       "png": "[encoded data removed]",
       "text": [
        "<matplotlib.figure.Figure at 0x108646a90>"
       ]
      }
     ],
     "prompt_number": 12
    },
    {
     "cell_type": "heading",
     "level": 2,
     "metadata": {},
     "source": [
      "Plotting Learning Curves for Bias-Variance analysis"
     ]
    },
    {
     "cell_type": "markdown",
     "metadata": {},
     "source": [
      "TODO"
     ]
    },
    {
     "cell_type": "code",
     "collapsed": false,
     "input": [
      "train_sizes = np.logspace(2, 3, 3).astype(np.int)\n",
      "train_sizes"
     ],
     "language": "python",
     "metadata": {},
     "outputs": [
      {
       "output_type": "pyout",
       "prompt_number": 13,
       "text": [
        "array([ 100,  316, 1000])"
       ]
      }
     ],
     "prompt_number": 13
    },
    {
     "cell_type": "heading",
     "level": 2,
     "metadata": {},
     "source": [
      "Parallel Computation of Learning Curves"
     ]
    },
    {
     "cell_type": "code",
     "collapsed": false,
     "input": [
      "from IPython.parallel import Client\n",
      "rc = Client()\n",
      "lv = rc.load_balanced_view()"
     ],
     "language": "python",
     "metadata": {},
     "outputs": [],
     "prompt_number": 14
    },
    {
     "cell_type": "code",
     "collapsed": false,
     "input": [
      "from collections import namedtuple\n",
      "from collections import defaultdict\n",
      "\n",
      "# Named tuple to collect evaluation results\n",
      "Evaluation = namedtuple('Evaluation', (\n",
      "    'test_score',\n",
      "    'train_score',\n",
      "    'train_time',\n",
      "    'train_size'))\n",
      "\n",
      "\n",
      "BaseLearningCurve = namedtuple('LearningCurve', (\n",
      "    'train_sizes',\n",
      "    'train_scores_mean',\n",
      "    'train_scores_ci_width',\n",
      "    'test_scores_mean',\n",
      "    'test_scores_ci_width',\n",
      "    'train_times_mean',\n",
      "    'train_times_ci_width',\n",
      "))\n",
      "\n",
      "\n",
      "class LearningCurve(BaseLearningCurve):\n",
      "    \n",
      "    def __repr__(self):\n",
      "        return (\n",
      "            \"best test score: {0:.3f}\\n\"\n",
      "            \"best train score: {1:.3f}\\n\"\n",
      "            \"max train time {2:.3f}\"\n",
      "        ).format(\n",
      "            np.max(self.test_scores_mean),\n",
      "            np.max(self.train_scores_mean),\n",
      "            np.max(self.train_times_mean),\n",
      "        )\n",
      "\n",
      "\n",
      "def evaluate(model, X_train, y_train, X_test, y_test):\n",
      "    \"\"\"Function executed on a worker to evaluate a model on a given CV fold\"\"\"\n",
      "    from time import time\n",
      "    # Fit model and measure training time\n",
      "    t0 = time()\n",
      "    model.fit(X_train, y_train)\n",
      "    train_time = time() - t0\n",
      "    \n",
      "    # Compute score on training set\n",
      "    train_score = model.score(X_train, y_train)\n",
      "    \n",
      "    # Compute score on test set\n",
      "    test_score = model.score(X_test, y_test)\n",
      "\n",
      "    # Wrap evaluation results in a tuple datastructure\n",
      "    return (test_score, train_score, train_time, X_train.shape[0])\n",
      "\n",
      "\n",
      "def compute_learning_curves(model, X, y, train_sizes=[0.2, 0.4, 0.6, 0.8],\n",
      "    test_size=0.2, n_iter=5):\n",
      "    \"\"\"Schedule evaluation work in parallel and aggregate results for plotting\"\"\"\n",
      "    tasks = []\n",
      "    for train_size in train_sizes:\n",
      "        cv = ShuffleSplit(n_samples, n_iter=n_iter, \n",
      "                          train_size=train_size,\n",
      "                          test_size=test_size)\n",
      "        for train, test in cv:\n",
      "            task = lv.apply_async(\n",
      "                    evaluate, clf,\n",
      "                    X[train], y[train],\n",
      "                    X[test], y[test])\n",
      "            \n",
      "            tasks.append(task)\n",
      "            \n",
      "    evaluations = [Evaluation(*t.get()) for t in tasks]\n",
      "    grouped_evaluations = defaultdict(list)\n",
      "    for ev in evaluations:\n",
      "        # Group evaluations by effective training sizes\n",
      "        grouped_evaluations[ev.train_size].append(ev)\n",
      "    \n",
      "    effective_train_sizes = []\n",
      "    train_scores, train_scores_ci_width = [], []\n",
      "    test_scores, test_scores_ci_width = [], []\n",
      "    train_times, train_times_ci_width = [], []\n",
      "\n",
      "    for size, group in sorted(grouped_evaluations.items()):\n",
      "        effective_train_sizes.append(size)\n",
      "\n",
      "        # Aggregate training scores data\n",
      "        train_mean, train_ci_width = mean_with_ci(\n",
      "            [ev.train_score for ev in group])\n",
      "        train_scores.append(train_mean)\n",
      "        train_scores_ci_width.append(train_ci_width)\n",
      "\n",
      "        # Aggregate testing scores data\n",
      "        test_mean, test_ci_width = mean_with_ci(\n",
      "            [ev.test_score for ev in group])\n",
      "        test_scores.append(test_mean)\n",
      "        test_scores_ci_width.append(test_ci_width)\n",
      "        \n",
      "        # Aggregate training times data\n",
      "        train_time, train_time_ci_width = mean_with_ci(\n",
      "            [ev.train_time for ev in group])\n",
      "        train_times.append(train_time)\n",
      "        train_times_ci_width.append(train_time_ci_width)\n",
      "\n",
      "    \n",
      "    return LearningCurve(effective_train_sizes,\n",
      "            train_scores, train_scores_ci_width,\n",
      "            test_scores, test_scores_ci_width,\n",
      "            train_times, train_times_ci_width)"
     ],
     "language": "python",
     "metadata": {},
     "outputs": [],
     "prompt_number": 15
    },
    {
     "cell_type": "code",
     "collapsed": false,
     "input": [
      "clf = SVC(kernel='rbf', C=1, gamma=0.01)\n",
      "%time curves = compute_learning_curves(clf, X, y, n_iter=10)\n",
      "curves"
     ],
     "language": "python",
     "metadata": {},
     "outputs": [
      {
       "ename": "TypeError",
       "evalue": "object of type 'NoneType' has no len()",
       "output_type": "pyerr",
       "traceback": [
        "\u001b[0;31m---------------------------------------------------------------------------\u001b[0m\n\u001b[0;31mTypeError\u001b[0m                                 Traceback (most recent call last)",
        "\u001b[0;32m<ipython-input-16-122f9a9dfc38>\u001b[0m in \u001b[0;36m<module>\u001b[0;34m()\u001b[0m\n\u001b[1;32m      1\u001b[0m \u001b[0mclf\u001b[0m \u001b[0;34m=\u001b[0m \u001b[0mSVC\u001b[0m\u001b[0;34m(\u001b[0m\u001b[0mkernel\u001b[0m\u001b[0;34m=\u001b[0m\u001b[0;34m'rbf'\u001b[0m\u001b[0;34m,\u001b[0m \u001b[0mC\u001b[0m\u001b[0;34m=\u001b[0m\u001b[0;36m1\u001b[0m\u001b[0;34m,\u001b[0m \u001b[0mgamma\u001b[0m\u001b[0;34m=\u001b[0m\u001b[0;36m0.01\u001b[0m\u001b[0;34m)\u001b[0m\u001b[0;34m\u001b[0m\u001b[0m\n\u001b[1;32m      2\u001b[0m \u001b[0mget_ipython\u001b[0m\u001b[0;34m(\u001b[0m\u001b[0;34m)\u001b[0m\u001b[0;34m.\u001b[0m\u001b[0mmagic\u001b[0m\u001b[0;34m(\u001b[0m\u001b[0;34mu'time curves = compute_learning_curves(clf, X, y, n_iter=10)'\u001b[0m\u001b[0;34m)\u001b[0m\u001b[0;34m\u001b[0m\u001b[0m\n\u001b[0;32m----> 3\u001b[0;31m \u001b[0mcurves\u001b[0m\u001b[0;34m\u001b[0m\u001b[0m\n\u001b[0m",
        "\u001b[0;32m/Users/ogrisel/coding/ipython/IPython/core/displayhook.pyc\u001b[0m in \u001b[0;36m__call__\u001b[0;34m(self, result)\u001b[0m\n\u001b[1;32m    240\u001b[0m             \u001b[0mself\u001b[0m\u001b[0;34m.\u001b[0m\u001b[0mstart_displayhook\u001b[0m\u001b[0;34m(\u001b[0m\u001b[0;34m)\u001b[0m\u001b[0;34m\u001b[0m\u001b[0m\n\u001b[1;32m    241\u001b[0m             \u001b[0mself\u001b[0m\u001b[0;34m.\u001b[0m\u001b[0mwrite_output_prompt\u001b[0m\u001b[0;34m(\u001b[0m\u001b[0;34m)\u001b[0m\u001b[0;34m\u001b[0m\u001b[0m\n\u001b[0;32m--> 242\u001b[0;31m             \u001b[0mformat_dict\u001b[0m \u001b[0;34m=\u001b[0m \u001b[0mself\u001b[0m\u001b[0;34m.\u001b[0m\u001b[0mcompute_format_data\u001b[0m\u001b[0;34m(\u001b[0m\u001b[0mresult\u001b[0m\u001b[0;34m)\u001b[0m\u001b[0;34m\u001b[0m\u001b[0m\n\u001b[0m\u001b[1;32m    243\u001b[0m             \u001b[0mself\u001b[0m\u001b[0;34m.\u001b[0m\u001b[0mwrite_format_data\u001b[0m\u001b[0;34m(\u001b[0m\u001b[0mformat_dict\u001b[0m\u001b[0;34m)\u001b[0m\u001b[0;34m\u001b[0m\u001b[0m\n\u001b[1;32m    244\u001b[0m             \u001b[0mself\u001b[0m\u001b[0;34m.\u001b[0m\u001b[0mupdate_user_ns\u001b[0m\u001b[0;34m(\u001b[0m\u001b[0mresult\u001b[0m\u001b[0;34m)\u001b[0m\u001b[0;34m\u001b[0m\u001b[0m\n",
        "\u001b[0;32m/Users/ogrisel/coding/ipython/IPython/core/displayhook.pyc\u001b[0m in \u001b[0;36mcompute_format_data\u001b[0;34m(self, result)\u001b[0m\n\u001b[1;32m    152\u001b[0m             \u001b[0mMIME\u001b[0m \u001b[0mtype\u001b[0m \u001b[0mrepresentation\u001b[0m \u001b[0mof\u001b[0m \u001b[0mthe\u001b[0m \u001b[0mobject\u001b[0m\u001b[0;34m.\u001b[0m\u001b[0;34m\u001b[0m\u001b[0m\n\u001b[1;32m    153\u001b[0m         \"\"\"\n\u001b[0;32m--> 154\u001b[0;31m         \u001b[0;32mreturn\u001b[0m \u001b[0mself\u001b[0m\u001b[0;34m.\u001b[0m\u001b[0mshell\u001b[0m\u001b[0;34m.\u001b[0m\u001b[0mdisplay_formatter\u001b[0m\u001b[0;34m.\u001b[0m\u001b[0mformat\u001b[0m\u001b[0;34m(\u001b[0m\u001b[0mresult\u001b[0m\u001b[0;34m)\u001b[0m\u001b[0;34m\u001b[0m\u001b[0m\n\u001b[0m\u001b[1;32m    155\u001b[0m \u001b[0;34m\u001b[0m\u001b[0m\n\u001b[1;32m    156\u001b[0m     \u001b[0;32mdef\u001b[0m \u001b[0mwrite_format_data\u001b[0m\u001b[0;34m(\u001b[0m\u001b[0mself\u001b[0m\u001b[0;34m,\u001b[0m \u001b[0mformat_dict\u001b[0m\u001b[0;34m)\u001b[0m\u001b[0;34m:\u001b[0m\u001b[0;34m\u001b[0m\u001b[0m\n",
        "\u001b[0;32m/Users/ogrisel/coding/ipython/IPython/core/formatters.pyc\u001b[0m in \u001b[0;36mformat\u001b[0;34m(self, obj, include, exclude)\u001b[0m\n\u001b[1;32m    128\u001b[0m                     \u001b[0;32mcontinue\u001b[0m\u001b[0;34m\u001b[0m\u001b[0m\n\u001b[1;32m    129\u001b[0m             \u001b[0;32mtry\u001b[0m\u001b[0;34m:\u001b[0m\u001b[0;34m\u001b[0m\u001b[0m\n\u001b[0;32m--> 130\u001b[0;31m                 \u001b[0mdata\u001b[0m \u001b[0;34m=\u001b[0m \u001b[0mformatter\u001b[0m\u001b[0;34m(\u001b[0m\u001b[0mobj\u001b[0m\u001b[0;34m)\u001b[0m\u001b[0;34m\u001b[0m\u001b[0m\n\u001b[0m\u001b[1;32m    131\u001b[0m             \u001b[0;32mexcept\u001b[0m\u001b[0;34m:\u001b[0m\u001b[0;34m\u001b[0m\u001b[0m\n\u001b[1;32m    132\u001b[0m                 \u001b[0;31m# FIXME: log the exception\u001b[0m\u001b[0;34m\u001b[0m\u001b[0;34m\u001b[0m\u001b[0m\n",
        "\u001b[0;32m/Users/ogrisel/coding/ipython/IPython/core/formatters.pyc\u001b[0m in \u001b[0;36m__call__\u001b[0;34m(self, obj)\u001b[0m\n\u001b[1;32m    449\u001b[0m                 \u001b[0mtype_pprinters\u001b[0m\u001b[0;34m=\u001b[0m\u001b[0mself\u001b[0m\u001b[0;34m.\u001b[0m\u001b[0mtype_printers\u001b[0m\u001b[0;34m,\u001b[0m\u001b[0;34m\u001b[0m\u001b[0m\n\u001b[1;32m    450\u001b[0m                 deferred_pprinters=self.deferred_printers)\n\u001b[0;32m--> 451\u001b[0;31m             \u001b[0mprinter\u001b[0m\u001b[0;34m.\u001b[0m\u001b[0mpretty\u001b[0m\u001b[0;34m(\u001b[0m\u001b[0mobj\u001b[0m\u001b[0;34m)\u001b[0m\u001b[0;34m\u001b[0m\u001b[0m\n\u001b[0m\u001b[1;32m    452\u001b[0m             \u001b[0mprinter\u001b[0m\u001b[0;34m.\u001b[0m\u001b[0mflush\u001b[0m\u001b[0;34m(\u001b[0m\u001b[0;34m)\u001b[0m\u001b[0;34m\u001b[0m\u001b[0m\n\u001b[1;32m    453\u001b[0m             \u001b[0;32mreturn\u001b[0m \u001b[0mstream\u001b[0m\u001b[0;34m.\u001b[0m\u001b[0mgetvalue\u001b[0m\u001b[0;34m(\u001b[0m\u001b[0;34m)\u001b[0m\u001b[0;34m\u001b[0m\u001b[0m\n",
        "\u001b[0;32m/Users/ogrisel/coding/ipython/IPython/lib/pretty.pyc\u001b[0m in \u001b[0;36mpretty\u001b[0;34m(self, obj)\u001b[0m\n\u001b[1;32m    345\u001b[0m                 \u001b[0;32mif\u001b[0m \u001b[0mcls\u001b[0m \u001b[0;32min\u001b[0m \u001b[0mself\u001b[0m\u001b[0;34m.\u001b[0m\u001b[0mtype_pprinters\u001b[0m\u001b[0;34m:\u001b[0m\u001b[0;34m\u001b[0m\u001b[0m\n\u001b[1;32m    346\u001b[0m                     \u001b[0;31m# printer registered in self.type_pprinters\u001b[0m\u001b[0;34m\u001b[0m\u001b[0;34m\u001b[0m\u001b[0m\n\u001b[0;32m--> 347\u001b[0;31m                     \u001b[0;32mreturn\u001b[0m \u001b[0mself\u001b[0m\u001b[0;34m.\u001b[0m\u001b[0mtype_pprinters\u001b[0m\u001b[0;34m[\u001b[0m\u001b[0mcls\u001b[0m\u001b[0;34m]\u001b[0m\u001b[0;34m(\u001b[0m\u001b[0mobj\u001b[0m\u001b[0;34m,\u001b[0m \u001b[0mself\u001b[0m\u001b[0;34m,\u001b[0m \u001b[0mcycle\u001b[0m\u001b[0;34m)\u001b[0m\u001b[0;34m\u001b[0m\u001b[0m\n\u001b[0m\u001b[1;32m    348\u001b[0m                 \u001b[0;32melse\u001b[0m\u001b[0;34m:\u001b[0m\u001b[0;34m\u001b[0m\u001b[0m\n\u001b[1;32m    349\u001b[0m                     \u001b[0;31m# deferred printer\u001b[0m\u001b[0;34m\u001b[0m\u001b[0;34m\u001b[0m\u001b[0m\n",
        "\u001b[0;32m/Users/ogrisel/coding/ipython/IPython/lib/pretty.pyc\u001b[0m in \u001b[0;36minner\u001b[0;34m(obj, p, cycle)\u001b[0m\n\u001b[1;32m    519\u001b[0m         \u001b[0;32mif\u001b[0m \u001b[0mbasetype\u001b[0m \u001b[0;32mis\u001b[0m \u001b[0;32mnot\u001b[0m \u001b[0mNone\u001b[0m \u001b[0;32mand\u001b[0m \u001b[0mtyp\u001b[0m \u001b[0;32mis\u001b[0m \u001b[0;32mnot\u001b[0m \u001b[0mbasetype\u001b[0m \u001b[0;32mand\u001b[0m \u001b[0mtyp\u001b[0m\u001b[0;34m.\u001b[0m\u001b[0m__repr__\u001b[0m \u001b[0;34m!=\u001b[0m \u001b[0mbasetype\u001b[0m\u001b[0;34m.\u001b[0m\u001b[0m__repr__\u001b[0m\u001b[0;34m:\u001b[0m\u001b[0;34m\u001b[0m\u001b[0m\n\u001b[1;32m    520\u001b[0m             \u001b[0;31m# If the subclass provides its own repr, use it instead.\u001b[0m\u001b[0;34m\u001b[0m\u001b[0;34m\u001b[0m\u001b[0m\n\u001b[0;32m--> 521\u001b[0;31m             \u001b[0;32mreturn\u001b[0m \u001b[0mp\u001b[0m\u001b[0;34m.\u001b[0m\u001b[0mtext\u001b[0m\u001b[0;34m(\u001b[0m\u001b[0mtyp\u001b[0m\u001b[0;34m.\u001b[0m\u001b[0m__repr__\u001b[0m\u001b[0;34m(\u001b[0m\u001b[0mobj\u001b[0m\u001b[0;34m)\u001b[0m\u001b[0;34m)\u001b[0m\u001b[0;34m\u001b[0m\u001b[0m\n\u001b[0m\u001b[1;32m    522\u001b[0m \u001b[0;34m\u001b[0m\u001b[0m\n\u001b[1;32m    523\u001b[0m         \u001b[0;32mif\u001b[0m \u001b[0mcycle\u001b[0m\u001b[0;34m:\u001b[0m\u001b[0;34m\u001b[0m\u001b[0m\n",
        "\u001b[0;32m/Users/ogrisel/coding/ipython/IPython/lib/pretty.pyc\u001b[0m in \u001b[0;36mtext\u001b[0;34m(self, obj)\u001b[0m\n\u001b[1;32m    199\u001b[0m     \u001b[0;32mdef\u001b[0m \u001b[0mtext\u001b[0m\u001b[0;34m(\u001b[0m\u001b[0mself\u001b[0m\u001b[0;34m,\u001b[0m \u001b[0mobj\u001b[0m\u001b[0;34m)\u001b[0m\u001b[0;34m:\u001b[0m\u001b[0;34m\u001b[0m\u001b[0m\n\u001b[1;32m    200\u001b[0m         \u001b[0;34m\"\"\"Add literal text to the output.\"\"\"\u001b[0m\u001b[0;34m\u001b[0m\u001b[0m\n\u001b[0;32m--> 201\u001b[0;31m         \u001b[0mwidth\u001b[0m \u001b[0;34m=\u001b[0m \u001b[0mlen\u001b[0m\u001b[0;34m(\u001b[0m\u001b[0mobj\u001b[0m\u001b[0;34m)\u001b[0m\u001b[0;34m\u001b[0m\u001b[0m\n\u001b[0m\u001b[1;32m    202\u001b[0m         \u001b[0;32mif\u001b[0m \u001b[0mself\u001b[0m\u001b[0;34m.\u001b[0m\u001b[0mbuffer\u001b[0m\u001b[0;34m:\u001b[0m\u001b[0;34m\u001b[0m\u001b[0m\n\u001b[1;32m    203\u001b[0m             \u001b[0mtext\u001b[0m \u001b[0;34m=\u001b[0m \u001b[0mself\u001b[0m\u001b[0;34m.\u001b[0m\u001b[0mbuffer\u001b[0m\u001b[0;34m[\u001b[0m\u001b[0;34m-\u001b[0m\u001b[0;36m1\u001b[0m\u001b[0;34m]\u001b[0m\u001b[0;34m\u001b[0m\u001b[0m\n",
        "\u001b[0;31mTypeError\u001b[0m: object of type 'NoneType' has no len()"
       ]
      },
      {
       "output_type": "stream",
       "stream": "stdout",
       "text": [
        "CPU times: user 0.78 s, sys: 0.17 s, total: 0.95 s\n",
        "Wall time: 8.91 s\n"
       ]
      }
     ],
     "prompt_number": 16
    },
    {
     "cell_type": "code",
     "collapsed": false,
     "input": [
      "def plot_learning_curves(lc):\n",
      "    \"\"\"Interative plot of a learning curve\"\"\"\n",
      "    pl.figure()\n",
      "    pl.subplot(211)\n",
      "    pl.errorbar(lc.train_sizes,\n",
      "                lc.train_scores_mean,\n",
      "                lc.train_scores_ci_width,\n",
      "                label='train')\n",
      "    pl.errorbar(lc.train_sizes,\n",
      "                lc.test_scores_mean,\n",
      "                lc.test_scores_ci_width,\n",
      "                label='test')\n",
      "    pl.ylabel('Score')\n",
      "    pl.ylim((None, 1))  # The best possible score is 1.0\n",
      "    pl.xticks(())\n",
      "    pl.legend(loc='best')\n",
      "    pl.title('Learning curves for SVM model on digits data')\n",
      "    \n",
      "    pl.subplot(212)\n",
      "    pl.errorbar(lc.train_sizes,\n",
      "                lc.train_times_mean,\n",
      "                lc.train_times_ci_width)\n",
      "    pl.ylabel('Training time (s)')\n",
      "    pl.xlabel('# training samples')\n",
      "\n",
      "plot_learning_curves(curves)"
     ],
     "language": "python",
     "metadata": {},
     "outputs": [
      {
       "output_type": "display_data",
       "png": "[encoded data removed]",
       "text": [
        "<matplotlib.figure.Figure at 0x109d9ee10>"
       ]
      }
     ],
     "prompt_number": 85
    },
    {
     "cell_type": "heading",
     "level": 2,
     "metadata": {},
     "source": [
      "Model Selection with Grid Search"
     ]
    },
    {
     "cell_type": "markdown",
     "metadata": {},
     "source": [
      "TODO: explain"
     ]
    },
    {
     "cell_type": "code",
     "collapsed": false,
     "input": [
      "#help(GridSearchCV)"
     ],
     "language": "python",
     "metadata": {},
     "outputs": [],
     "prompt_number": 117
    },
    {
     "cell_type": "code",
     "collapsed": false,
     "input": [
      "from pprint import pprint\n",
      "params = {\n",
      "    'C': np.logspace(-1, 2, 4),\n",
      "    'gamma': np.logspace(-4, 0, 5)[::-1],\n",
      "}\n",
      "pprint(params)"
     ],
     "language": "python",
     "metadata": {},
     "outputs": [
      {
       "output_type": "stream",
       "stream": "stdout",
       "text": [
        "{'C': array([   0.1,    1. ,   10. ,  100. ]),\n",
        " 'gamma': array([  1.00000000e+00,   1.00000000e-01,   1.00000000e-02,\n",
        "         1.00000000e-03,   1.00000000e-04])}\n"
       ]
      }
     ],
     "prompt_number": 123
    },
    {
     "cell_type": "code",
     "collapsed": false,
     "input": [
      "from sklearn.grid_search import GridSearchCV\n",
      "%time gs = GridSearchCV(SVC(), params, n_jobs=-1).fit(X_train[:500], y_train[:500])\n",
      "gs.best_params_, gs.best_score_"
     ],
     "language": "python",
     "metadata": {},
     "outputs": [
      {
       "output_type": "stream",
       "stream": "stdout",
       "text": [
        "CPU times: user 0.09 s, sys: 0.05 s, total: 0.14 s\n",
        "Wall time: 0.97 s\n"
       ]
      },
      {
       "output_type": "pyout",
       "prompt_number": 124,
       "text": [
        "({'C': 1.0, 'gamma': 0.001}, 0.96202775172546473)"
       ]
      }
     ],
     "prompt_number": 124
    },
    {
     "cell_type": "code",
     "collapsed": false,
     "input": [
      "gs.score(X_test, y_test)"
     ],
     "language": "python",
     "metadata": {},
     "outputs": [
      {
       "output_type": "pyout",
       "prompt_number": 125,
       "text": [
        "0.98444444444444446"
       ]
      }
     ],
     "prompt_number": 125
    },
    {
     "cell_type": "markdown",
     "metadata": {},
     "source": [
      "**Exercise**:\n",
      "\n",
      "- find a set of parameters for an `sklearn.ensemble.ExtraTreesClassifier` on the same dataset to reach at least 94% accuracy on the sample dataset (500 training samples) with a maximum of 100 sub-estimtors (decision trees in this case): `n_estimators=100`\n",
      "- in particular you can grid search good values for `max_depth`, `min_samples_leaf` and optionally `criterion`\n",
      "\n",
      "Hints:\n",
      "\n",
      "Type:\n",
      "\n",
      "    from sklearn.ensemble.ExtraTreesClassifier\n",
      "    ExtraTreesClassifier?  # to read the docstring and know the list of important parameters\n",
      "    print(ExtraTreesClassifier())  # to know the list of default values"
     ]
    },
    {
     "cell_type": "code",
     "collapsed": false,
     "input": [
      "from sklearn.ensemble import ExtraTreesClassifier\n",
      "print(ExtraTreesClassifier())\n",
      "# ExtraTreesClassifier?"
     ],
     "language": "python",
     "metadata": {},
     "outputs": [
      {
       "output_type": "stream",
       "stream": "stdout",
       "text": [
        "ExtraTreesClassifier(bootstrap=False, compute_importances=False,\n",
        "           criterion=gini, max_depth=None, max_features=auto,\n",
        "           min_density=0.1, min_samples_leaf=1, min_samples_split=1,\n",
        "           n_estimators=10, n_jobs=1, oob_score=False, random_state=None,\n",
        "           verbose=0)\n"
       ]
      }
     ],
     "prompt_number": 126
    },
    {
     "cell_type": "code",
     "collapsed": false,
     "input": [
      "params = {\n",
      "    #'criterion': ['gini', 'entropy'],\n",
      "    'max_depth': [10, 20, None],\n",
      "    'min_samples_leaf': [1, 2, 5],\n",
      "}\n",
      "%time gs = GridSearchCV(ExtraTreesClassifier(n_estimators=100), params, n_jobs=-1).fit(X_train[:500], y_train[:500])\n",
      "gs.best_params_, gs.best_score_"
     ],
     "language": "python",
     "metadata": {},
     "outputs": [
      {
       "output_type": "stream",
       "stream": "stdout",
       "text": [
        "CPU times: user 1.14 s, sys: 0.04 s, total: 1.18 s\n",
        "Wall time: 9.33 s\n"
       ]
      },
      {
       "output_type": "pyout",
       "prompt_number": 127,
       "text": [
        "({'max_depth': 20, 'min_samples_leaf': 1}, 0.94401558329124868)"
       ]
      }
     ],
     "prompt_number": 127
    },
    {
     "cell_type": "code",
     "collapsed": false,
     "input": [
      "gs.score(X_test, y_test)"
     ],
     "language": "python",
     "metadata": {},
     "outputs": [
      {
       "output_type": "pyout",
       "prompt_number": 128,
       "text": [
        "0.97111111111111115"
       ]
      }
     ],
     "prompt_number": 128
    },
    {
     "cell_type": "heading",
     "level": 2,
     "metadata": {},
     "source": [
      "Distributed Model Selection with Grid Search"
     ]
    },
    {
     "cell_type": "code",
     "collapsed": false,
     "input": [
      "from sklearn.grid_search import IterGrid\n",
      "list(IterGrid(params))"
     ],
     "language": "python",
     "metadata": {},
     "outputs": [
      {
       "output_type": "pyout",
       "prompt_number": 129,
       "text": [
        "[{'max_depth': 10, 'min_samples_leaf': 1},\n",
        " {'max_depth': 10, 'min_samples_leaf': 2},\n",
        " {'max_depth': 10, 'min_samples_leaf': 5},\n",
        " {'max_depth': 20, 'min_samples_leaf': 1},\n",
        " {'max_depth': 20, 'min_samples_leaf': 2},\n",
        " {'max_depth': 20, 'min_samples_leaf': 5},\n",
        " {'max_depth': None, 'min_samples_leaf': 1},\n",
        " {'max_depth': None, 'min_samples_leaf': 2},\n",
        " {'max_depth': None, 'min_samples_leaf': 5}]"
       ]
      }
     ],
     "prompt_number": 129
    },
    {
     "cell_type": "markdown",
     "metadata": {},
     "source": [
      "**Exercise:** learning curves and grid search\n",
      "\n",
      "- combine the previous examples to compute the learning curves data and grid search in parallel\n",
      "- plot the learning curves of the top 3 models (ranked by high test scores and small durations in case of tie)\n",
      "- are the best models overfitting overfitting or underfitting?\n",
      "- would the models benefit from a larger labeled dataset?"
     ]
    }
   ],
   "metadata": {}
  }
 ]
}